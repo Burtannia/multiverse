{
 "cells": [
  {
   "attachments": {},
   "cell_type": "markdown",
   "metadata": {},
   "source": [
    "# Exploration Task\n",
    "\n",
    "The data you are going to be using for this activity is information on different cars. We will be using this dataset in the workshop, but it is not in a currently usable format. Follow the steps below to inspect the dataset. We will later clean it together during the first workshop.\n",
    "\n",
    "The dataset conatins various information about the cars which include:\n",
    "\n",
    "* **index**: index of dataframe \n",
    "* **car**: car manufacturer \n",
    "* **model**: model of car \n",
    "* **mpg**: miles per gallon \n",
    "* **cyl**: number of cylinders \n",
    "* **disp**: displacement in cubic inches \n",
    "* **hp**: gross horsepower \n",
    "* **drat**: rear axle ratio \n",
    "* **wt**: weight in pounds \n",
    "* **qsec**: quarter mile time \n",
    "* **vs**: engine shape (`0`=V-shaped, `1`=straight) \n",
    "* **am**: transmission (`0`=automatic, `1`=manual) \n",
    "* **gear**: number of forward gears \n",
    "* **carb**: number of carburetors \n",
    "* **color**: car colour     "
   ]
  },
  {
   "cell_type": "code",
   "execution_count": 2,
   "metadata": {},
   "outputs": [],
   "source": [
    "# import pandas\n",
    "\n",
    "import pandas as pd"
   ]
  },
  {
   "cell_type": "code",
   "execution_count": 3,
   "metadata": {},
   "outputs": [],
   "source": [
    "# load the data\n",
    "\n",
    "cars = pd.read_csv('Data/cars_features.csv')"
   ]
  },
  {
   "cell_type": "code",
   "execution_count": 4,
   "metadata": {},
   "outputs": [
    {
     "data": {
      "text/plain": [
       "(63, 17)"
      ]
     },
     "execution_count": 4,
     "metadata": {},
     "output_type": "execute_result"
    }
   ],
   "source": [
    "cars.shape"
   ]
  },
  {
   "cell_type": "code",
   "execution_count": 5,
   "metadata": {},
   "outputs": [
    {
     "data": {
      "text/html": [
       "<div>\n",
       "<style scoped>\n",
       "    .dataframe tbody tr th:only-of-type {\n",
       "        vertical-align: middle;\n",
       "    }\n",
       "\n",
       "    .dataframe tbody tr th {\n",
       "        vertical-align: top;\n",
       "    }\n",
       "\n",
       "    .dataframe thead th {\n",
       "        text-align: right;\n",
       "    }\n",
       "</style>\n",
       "<table border=\"1\" class=\"dataframe\">\n",
       "  <thead>\n",
       "    <tr style=\"text-align: right;\">\n",
       "      <th></th>\n",
       "      <th>index</th>\n",
       "      <th>car</th>\n",
       "      <th>model</th>\n",
       "      <th>mpg</th>\n",
       "      <th>cyl</th>\n",
       "      <th>disp</th>\n",
       "      <th>hp</th>\n",
       "      <th>drat</th>\n",
       "      <th>wt</th>\n",
       "      <th>qsec</th>\n",
       "      <th>vs</th>\n",
       "      <th>am</th>\n",
       "      <th>gear</th>\n",
       "      <th>carb</th>\n",
       "      <th>model.1</th>\n",
       "      <th>color</th>\n",
       "      <th>code</th>\n",
       "    </tr>\n",
       "  </thead>\n",
       "  <tbody>\n",
       "    <tr>\n",
       "      <th>0</th>\n",
       "      <td>0</td>\n",
       "      <td>Mazda</td>\n",
       "      <td>RX4</td>\n",
       "      <td>21.0</td>\n",
       "      <td>6.0</td>\n",
       "      <td>160.0</td>\n",
       "      <td>110.0</td>\n",
       "      <td>3.90</td>\n",
       "      <td>2.62 lbs</td>\n",
       "      <td>16.46</td>\n",
       "      <td>NaN</td>\n",
       "      <td>1.0</td>\n",
       "      <td>4.0</td>\n",
       "      <td>4.0</td>\n",
       "      <td>RX4</td>\n",
       "      <td>NaN</td>\n",
       "      <td>NK407</td>\n",
       "    </tr>\n",
       "    <tr>\n",
       "      <th>1</th>\n",
       "      <td>1</td>\n",
       "      <td>Mazda</td>\n",
       "      <td>RX4</td>\n",
       "      <td>21.0</td>\n",
       "      <td>6.0</td>\n",
       "      <td>160.0</td>\n",
       "      <td>110.0</td>\n",
       "      <td>3.90</td>\n",
       "      <td>2.875 lbs</td>\n",
       "      <td>17.02</td>\n",
       "      <td>NaN</td>\n",
       "      <td>1.0</td>\n",
       "      <td>4.0</td>\n",
       "      <td>4.0</td>\n",
       "      <td>RX4</td>\n",
       "      <td>NaN</td>\n",
       "      <td>CM144</td>\n",
       "    </tr>\n",
       "    <tr>\n",
       "      <th>2</th>\n",
       "      <td>2</td>\n",
       "      <td>Datsun</td>\n",
       "      <td>710</td>\n",
       "      <td>22.8</td>\n",
       "      <td>4.0</td>\n",
       "      <td>108.0</td>\n",
       "      <td>93.0</td>\n",
       "      <td>3.85</td>\n",
       "      <td>2.32 lbs</td>\n",
       "      <td>18.61</td>\n",
       "      <td>1.0</td>\n",
       "      <td>1.0</td>\n",
       "      <td>4.0</td>\n",
       "      <td>1.0</td>\n",
       "      <td>710</td>\n",
       "      <td>NaN</td>\n",
       "      <td>PA489</td>\n",
       "    </tr>\n",
       "    <tr>\n",
       "      <th>3</th>\n",
       "      <td>3</td>\n",
       "      <td>Hornet</td>\n",
       "      <td>4</td>\n",
       "      <td>21.4</td>\n",
       "      <td>6.0</td>\n",
       "      <td>258.0</td>\n",
       "      <td>110.0</td>\n",
       "      <td>3.08</td>\n",
       "      <td>3.215 lbs</td>\n",
       "      <td>19.44</td>\n",
       "      <td>1.0</td>\n",
       "      <td>0.0</td>\n",
       "      <td>3.0</td>\n",
       "      <td>1.0</td>\n",
       "      <td>4</td>\n",
       "      <td>NaN</td>\n",
       "      <td>QT333</td>\n",
       "    </tr>\n",
       "    <tr>\n",
       "      <th>4</th>\n",
       "      <td>4</td>\n",
       "      <td>harnet</td>\n",
       "      <td>Sportabout</td>\n",
       "      <td>18.7</td>\n",
       "      <td>8.0</td>\n",
       "      <td>360.0</td>\n",
       "      <td>175.0</td>\n",
       "      <td>3.15</td>\n",
       "      <td>3.44 lbs</td>\n",
       "      <td>17.02</td>\n",
       "      <td>NaN</td>\n",
       "      <td>0.0</td>\n",
       "      <td>3.0</td>\n",
       "      <td>2.0</td>\n",
       "      <td>Sportabout</td>\n",
       "      <td>NaN</td>\n",
       "      <td>GE476</td>\n",
       "    </tr>\n",
       "  </tbody>\n",
       "</table>\n",
       "</div>"
      ],
      "text/plain": [
       "   index     car       model   mpg  cyl   disp     hp  drat         wt   qsec  \\\n",
       "0      0   Mazda         RX4  21.0  6.0  160.0  110.0  3.90   2.62 lbs  16.46   \n",
       "1      1   Mazda         RX4  21.0  6.0  160.0  110.0  3.90  2.875 lbs  17.02   \n",
       "2      2  Datsun         710  22.8  4.0  108.0   93.0  3.85   2.32 lbs  18.61   \n",
       "3      3  Hornet           4  21.4  6.0  258.0  110.0  3.08  3.215 lbs  19.44   \n",
       "4      4  harnet  Sportabout  18.7  8.0  360.0  175.0  3.15   3.44 lbs  17.02   \n",
       "\n",
       "    vs   am  gear  carb     model.1  color   code  \n",
       "0  NaN  1.0   4.0   4.0         RX4    NaN  NK407  \n",
       "1  NaN  1.0   4.0   4.0         RX4    NaN  CM144  \n",
       "2  1.0  1.0   4.0   1.0         710    NaN  PA489  \n",
       "3  1.0  0.0   3.0   1.0           4    NaN  QT333  \n",
       "4  NaN  0.0   3.0   2.0  Sportabout    NaN  GE476  "
      ]
     },
     "execution_count": 5,
     "metadata": {},
     "output_type": "execute_result"
    }
   ],
   "source": [
    "cars.head()"
   ]
  },
  {
   "attachments": {},
   "cell_type": "markdown",
   "metadata": {},
   "source": [
    "## Inspect the Data"
   ]
  },
  {
   "attachments": {},
   "cell_type": "markdown",
   "metadata": {},
   "source": [
    "###  1. Use `.info()` to check each columns data type and for the number of nulls.\n",
    "\n",
    "Are any columns looking like a concern?"
   ]
  },
  {
   "cell_type": "code",
   "execution_count": 6,
   "metadata": {},
   "outputs": [
    {
     "name": "stdout",
     "output_type": "stream",
     "text": [
      "<class 'pandas.core.frame.DataFrame'>\n",
      "RangeIndex: 63 entries, 0 to 62\n",
      "Data columns (total 17 columns):\n",
      " #   Column   Non-Null Count  Dtype  \n",
      "---  ------   --------------  -----  \n",
      " 0   index    63 non-null     int64  \n",
      " 1   car      51 non-null     object \n",
      " 2   model    48 non-null     object \n",
      " 3   mpg      51 non-null     float64\n",
      " 4   cyl      51 non-null     float64\n",
      " 5   disp     51 non-null     float64\n",
      " 6   hp       51 non-null     float64\n",
      " 7   drat     51 non-null     float64\n",
      " 8   wt       53 non-null     object \n",
      " 9   qsec     51 non-null     float64\n",
      " 10  vs       24 non-null     float64\n",
      " 11  am       51 non-null     float64\n",
      " 12  gear     51 non-null     float64\n",
      " 13  carb     51 non-null     float64\n",
      " 14  model.1  48 non-null     object \n",
      " 15  color    0 non-null      float64\n",
      " 16  code     53 non-null     object \n",
      "dtypes: float64(11), int64(1), object(5)\n",
      "memory usage: 8.5+ KB\n"
     ]
    }
   ],
   "source": [
    "#A: \n",
    "cars.info()"
   ]
  },
  {
   "attachments": {},
   "cell_type": "markdown",
   "metadata": {},
   "source": [
    "### 2. Use `.describe()` to view summary statistics for each numeric column."
   ]
  },
  {
   "cell_type": "code",
   "execution_count": 11,
   "metadata": {},
   "outputs": [
    {
     "data": {
      "text/html": [
       "<div>\n",
       "<style scoped>\n",
       "    .dataframe tbody tr th:only-of-type {\n",
       "        vertical-align: middle;\n",
       "    }\n",
       "\n",
       "    .dataframe tbody tr th {\n",
       "        vertical-align: top;\n",
       "    }\n",
       "\n",
       "    .dataframe thead th {\n",
       "        text-align: right;\n",
       "    }\n",
       "</style>\n",
       "<table border=\"1\" class=\"dataframe\">\n",
       "  <thead>\n",
       "    <tr style=\"text-align: right;\">\n",
       "      <th></th>\n",
       "      <th>index</th>\n",
       "      <th>mpg</th>\n",
       "      <th>cyl</th>\n",
       "      <th>disp</th>\n",
       "      <th>hp</th>\n",
       "      <th>drat</th>\n",
       "      <th>qsec</th>\n",
       "      <th>vs</th>\n",
       "      <th>am</th>\n",
       "      <th>gear</th>\n",
       "      <th>carb</th>\n",
       "      <th>color</th>\n",
       "    </tr>\n",
       "  </thead>\n",
       "  <tbody>\n",
       "    <tr>\n",
       "      <th>count</th>\n",
       "      <td>63.000000</td>\n",
       "      <td>51.000000</td>\n",
       "      <td>51.000000</td>\n",
       "      <td>51.000000</td>\n",
       "      <td>51.000000</td>\n",
       "      <td>51.000000</td>\n",
       "      <td>51.000000</td>\n",
       "      <td>24.0</td>\n",
       "      <td>51.000000</td>\n",
       "      <td>51.000000</td>\n",
       "      <td>51.000000</td>\n",
       "      <td>0.0</td>\n",
       "    </tr>\n",
       "    <tr>\n",
       "      <th>mean</th>\n",
       "      <td>31.000000</td>\n",
       "      <td>19.898039</td>\n",
       "      <td>6.196078</td>\n",
       "      <td>234.890196</td>\n",
       "      <td>143.254902</td>\n",
       "      <td>3.532353</td>\n",
       "      <td>18.094314</td>\n",
       "      <td>1.0</td>\n",
       "      <td>0.294118</td>\n",
       "      <td>3.588235</td>\n",
       "      <td>2.666667</td>\n",
       "      <td>NaN</td>\n",
       "    </tr>\n",
       "    <tr>\n",
       "      <th>std</th>\n",
       "      <td>18.330303</td>\n",
       "      <td>5.402203</td>\n",
       "      <td>1.755216</td>\n",
       "      <td>119.582867</td>\n",
       "      <td>62.276109</td>\n",
       "      <td>0.497741</td>\n",
       "      <td>1.809919</td>\n",
       "      <td>0.0</td>\n",
       "      <td>0.460179</td>\n",
       "      <td>0.697896</td>\n",
       "      <td>1.451436</td>\n",
       "      <td>NaN</td>\n",
       "    </tr>\n",
       "    <tr>\n",
       "      <th>min</th>\n",
       "      <td>0.000000</td>\n",
       "      <td>10.400000</td>\n",
       "      <td>4.000000</td>\n",
       "      <td>71.100000</td>\n",
       "      <td>52.000000</td>\n",
       "      <td>2.760000</td>\n",
       "      <td>14.500000</td>\n",
       "      <td>1.0</td>\n",
       "      <td>0.000000</td>\n",
       "      <td>3.000000</td>\n",
       "      <td>1.000000</td>\n",
       "      <td>NaN</td>\n",
       "    </tr>\n",
       "    <tr>\n",
       "      <th>25%</th>\n",
       "      <td>15.500000</td>\n",
       "      <td>16.850000</td>\n",
       "      <td>4.000000</td>\n",
       "      <td>140.800000</td>\n",
       "      <td>97.000000</td>\n",
       "      <td>3.080000</td>\n",
       "      <td>17.020000</td>\n",
       "      <td>1.0</td>\n",
       "      <td>0.000000</td>\n",
       "      <td>3.000000</td>\n",
       "      <td>2.000000</td>\n",
       "      <td>NaN</td>\n",
       "    </tr>\n",
       "    <tr>\n",
       "      <th>50%</th>\n",
       "      <td>31.000000</td>\n",
       "      <td>19.200000</td>\n",
       "      <td>6.000000</td>\n",
       "      <td>225.000000</td>\n",
       "      <td>123.000000</td>\n",
       "      <td>3.690000</td>\n",
       "      <td>17.820000</td>\n",
       "      <td>1.0</td>\n",
       "      <td>0.000000</td>\n",
       "      <td>3.000000</td>\n",
       "      <td>2.000000</td>\n",
       "      <td>NaN</td>\n",
       "    </tr>\n",
       "    <tr>\n",
       "      <th>75%</th>\n",
       "      <td>46.500000</td>\n",
       "      <td>22.150000</td>\n",
       "      <td>8.000000</td>\n",
       "      <td>350.000000</td>\n",
       "      <td>180.000000</td>\n",
       "      <td>3.910000</td>\n",
       "      <td>19.455000</td>\n",
       "      <td>1.0</td>\n",
       "      <td>1.000000</td>\n",
       "      <td>4.000000</td>\n",
       "      <td>4.000000</td>\n",
       "      <td>NaN</td>\n",
       "    </tr>\n",
       "    <tr>\n",
       "      <th>max</th>\n",
       "      <td>62.000000</td>\n",
       "      <td>33.900000</td>\n",
       "      <td>8.000000</td>\n",
       "      <td>472.000000</td>\n",
       "      <td>335.000000</td>\n",
       "      <td>4.930000</td>\n",
       "      <td>22.900000</td>\n",
       "      <td>1.0</td>\n",
       "      <td>1.000000</td>\n",
       "      <td>5.000000</td>\n",
       "      <td>8.000000</td>\n",
       "      <td>NaN</td>\n",
       "    </tr>\n",
       "  </tbody>\n",
       "</table>\n",
       "</div>"
      ],
      "text/plain": [
       "           index        mpg        cyl        disp          hp       drat  \\\n",
       "count  63.000000  51.000000  51.000000   51.000000   51.000000  51.000000   \n",
       "mean   31.000000  19.898039   6.196078  234.890196  143.254902   3.532353   \n",
       "std    18.330303   5.402203   1.755216  119.582867   62.276109   0.497741   \n",
       "min     0.000000  10.400000   4.000000   71.100000   52.000000   2.760000   \n",
       "25%    15.500000  16.850000   4.000000  140.800000   97.000000   3.080000   \n",
       "50%    31.000000  19.200000   6.000000  225.000000  123.000000   3.690000   \n",
       "75%    46.500000  22.150000   8.000000  350.000000  180.000000   3.910000   \n",
       "max    62.000000  33.900000   8.000000  472.000000  335.000000   4.930000   \n",
       "\n",
       "            qsec    vs         am       gear       carb  color  \n",
       "count  51.000000  24.0  51.000000  51.000000  51.000000    0.0  \n",
       "mean   18.094314   1.0   0.294118   3.588235   2.666667    NaN  \n",
       "std     1.809919   0.0   0.460179   0.697896   1.451436    NaN  \n",
       "min    14.500000   1.0   0.000000   3.000000   1.000000    NaN  \n",
       "25%    17.020000   1.0   0.000000   3.000000   2.000000    NaN  \n",
       "50%    17.820000   1.0   0.000000   3.000000   2.000000    NaN  \n",
       "75%    19.455000   1.0   1.000000   4.000000   4.000000    NaN  \n",
       "max    22.900000   1.0   1.000000   5.000000   8.000000    NaN  "
      ]
     },
     "execution_count": 11,
     "metadata": {},
     "output_type": "execute_result"
    }
   ],
   "source": [
    "#A:\n",
    "cars.describe()"
   ]
  },
  {
   "attachments": {},
   "cell_type": "markdown",
   "metadata": {},
   "source": [
    "### 3. Which columns would you say are categorical data? For each one, identify what the different values are."
   ]
  },
  {
   "cell_type": "code",
   "execution_count": 21,
   "metadata": {},
   "outputs": [
    {
     "data": {
      "text/plain": [
       "array(['NK407', 'CM144', 'PA489', 'QT333', 'GE476', 'UQ518', 'JU158',\n",
       "       'ZY947', 'RV570', 'RI375', 'AA111', 'KK680', 'CD409', 'SA187',\n",
       "       'YQ492', 'CK385', 'EV614', '2.2', 'WX211', 'TE883', 'OG190',\n",
       "       'WB412', 'SW983', 'YJ664', 'KJ693', 'MT547', 'US100', 'NP206',\n",
       "       'PO301', 'BJ821', 'CW823', 'SY257', 'HR900', 'BO375', 'KO499',\n",
       "       'HO389', 'IM524', 'CI332', 'ED379', 'TG748', 'PM575', 'GI755',\n",
       "       'BO468', 'UW953', 'ZO456', 'OO924', 'RE316', 'WX733', 'MT127',\n",
       "       'BD949', 'NI405', nan, 'nn'], dtype=object)"
      ]
     },
     "execution_count": 21,
     "metadata": {},
     "output_type": "execute_result"
    }
   ],
   "source": [
    "#A:\n",
    "cars.car.unique()\n",
    "cars.model.unique()\n",
    "# cars.wt.unique()\n",
    "cars['model.1'].unique()\n",
    "cars.code.unique()"
   ]
  },
  {
   "attachments": {},
   "cell_type": "markdown",
   "metadata": {},
   "source": [
    "### 4. What is the most common number of forward gears?"
   ]
  },
  {
   "cell_type": "code",
   "execution_count": 12,
   "metadata": {},
   "outputs": [
    {
     "data": {
      "text/plain": [
       "0    3.0\n",
       "Name: gear, dtype: float64"
      ]
     },
     "execution_count": 12,
     "metadata": {},
     "output_type": "execute_result"
    }
   ],
   "source": [
    "#A:\n",
    "cars.gear.mode()"
   ]
  },
  {
   "attachments": {},
   "cell_type": "markdown",
   "metadata": {},
   "source": [
    "### 5. How many duplicate rows exist in this dataset?"
   ]
  },
  {
   "cell_type": "code",
   "execution_count": 32,
   "metadata": {},
   "outputs": [
    {
     "data": {
      "text/plain": [
       "12"
      ]
     },
     "execution_count": 32,
     "metadata": {},
     "output_type": "execute_result"
    }
   ],
   "source": [
    "#A:\n",
    "cars.drop(\"index\", axis=1).duplicated(keep=False).sum()\n"
   ]
  },
  {
   "cell_type": "code",
   "execution_count": null,
   "metadata": {},
   "outputs": [],
   "source": []
  }
 ],
 "metadata": {
  "kernelspec": {
   "display_name": "Python 3 (ipykernel)",
   "language": "python",
   "name": "python3"
  },
  "language_info": {
   "codemirror_mode": {
    "name": "ipython",
    "version": 3
   },
   "file_extension": ".py",
   "mimetype": "text/x-python",
   "name": "python",
   "nbconvert_exporter": "python",
   "pygments_lexer": "ipython3",
   "version": "3.10.9"
  }
 },
 "nbformat": 4,
 "nbformat_minor": 4
}
