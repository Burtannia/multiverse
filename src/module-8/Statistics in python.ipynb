{
 "cells": [
  {
   "cell_type": "markdown",
   "metadata": {},
   "source": [
    "# Statistics in Python\n",
    "\n",
    "In this workbook we will be investigating different statistical techniques that we can use to understand our data."
   ]
  },
  {
   "cell_type": "code",
   "execution_count": 1,
   "metadata": {},
   "outputs": [],
   "source": [
    "import pandas as pd\n",
    "import matplotlib.pyplot as plt\n",
    "import numpy as np"
   ]
  },
  {
   "cell_type": "markdown",
   "metadata": {},
   "source": [
    "## Warmup exercise\n",
    "\n",
    "The iris dataset contains information on three different species of iris that we can use to practice statistical calculations."
   ]
  },
  {
   "cell_type": "code",
   "execution_count": 2,
   "metadata": {},
   "outputs": [
    {
     "data": {
      "text/plain": [
       "dict_keys(['data', 'target', 'frame', 'target_names', 'DESCR', 'feature_names', 'filename'])"
      ]
     },
     "execution_count": 2,
     "metadata": {},
     "output_type": "execute_result"
    }
   ],
   "source": [
    "# The iris dataset is stored within a library called sklearn\n",
    "from sklearn import datasets\n",
    "\n",
    "# The dataset is stored as a dictionary\n",
    "iris= datasets.load_iris()\n",
    "\n",
    "iris.keys()"
   ]
  },
  {
   "cell_type": "code",
   "execution_count": 3,
   "metadata": {},
   "outputs": [
    {
     "data": {
      "text/html": [
       "<div>\n",
       "<style scoped>\n",
       "    .dataframe tbody tr th:only-of-type {\n",
       "        vertical-align: middle;\n",
       "    }\n",
       "\n",
       "    .dataframe tbody tr th {\n",
       "        vertical-align: top;\n",
       "    }\n",
       "\n",
       "    .dataframe thead th {\n",
       "        text-align: right;\n",
       "    }\n",
       "</style>\n",
       "<table border=\"1\" class=\"dataframe\">\n",
       "  <thead>\n",
       "    <tr style=\"text-align: right;\">\n",
       "      <th></th>\n",
       "      <th>sepal length (cm)</th>\n",
       "      <th>sepal width (cm)</th>\n",
       "      <th>petal length (cm)</th>\n",
       "      <th>petal width (cm)</th>\n",
       "      <th>species</th>\n",
       "    </tr>\n",
       "  </thead>\n",
       "  <tbody>\n",
       "    <tr>\n",
       "      <th>0</th>\n",
       "      <td>5.1</td>\n",
       "      <td>3.5</td>\n",
       "      <td>1.4</td>\n",
       "      <td>0.2</td>\n",
       "      <td>setosa</td>\n",
       "    </tr>\n",
       "    <tr>\n",
       "      <th>1</th>\n",
       "      <td>4.9</td>\n",
       "      <td>3.0</td>\n",
       "      <td>1.4</td>\n",
       "      <td>0.2</td>\n",
       "      <td>setosa</td>\n",
       "    </tr>\n",
       "    <tr>\n",
       "      <th>2</th>\n",
       "      <td>4.7</td>\n",
       "      <td>3.2</td>\n",
       "      <td>1.3</td>\n",
       "      <td>0.2</td>\n",
       "      <td>setosa</td>\n",
       "    </tr>\n",
       "    <tr>\n",
       "      <th>3</th>\n",
       "      <td>4.6</td>\n",
       "      <td>3.1</td>\n",
       "      <td>1.5</td>\n",
       "      <td>0.2</td>\n",
       "      <td>setosa</td>\n",
       "    </tr>\n",
       "    <tr>\n",
       "      <th>4</th>\n",
       "      <td>5.0</td>\n",
       "      <td>3.6</td>\n",
       "      <td>1.4</td>\n",
       "      <td>0.2</td>\n",
       "      <td>setosa</td>\n",
       "    </tr>\n",
       "  </tbody>\n",
       "</table>\n",
       "</div>"
      ],
      "text/plain": [
       "   sepal length (cm)  sepal width (cm)  petal length (cm)  petal width (cm)  \\\n",
       "0                5.1               3.5                1.4               0.2   \n",
       "1                4.9               3.0                1.4               0.2   \n",
       "2                4.7               3.2                1.3               0.2   \n",
       "3                4.6               3.1                1.5               0.2   \n",
       "4                5.0               3.6                1.4               0.2   \n",
       "\n",
       "  species  \n",
       "0  setosa  \n",
       "1  setosa  \n",
       "2  setosa  \n",
       "3  setosa  \n",
       "4  setosa  "
      ]
     },
     "execution_count": 3,
     "metadata": {},
     "output_type": "execute_result"
    }
   ],
   "source": [
    "# To turn it into a dataframe we need to extract the data and column names from the dictionary\n",
    "# Typically you won't need to do this as read_csv() and read_excel() both automatically create a dataframe for you\n",
    "iris_df = pd.DataFrame(iris['data'], columns=iris['feature_names'])\n",
    "\n",
    "# We can also add another column which tells us which species of iris each flower is\n",
    "iris_df['species'] = iris['target']\n",
    "\n",
    "# However, this is returned as a 0, 1 or 2. We can use .map() to insert the species names\n",
    "iris_df['species'] = iris_df['species'].map({0:'setosa', 1:'versicolor', 2:'virginica'})\n",
    "\n",
    "iris_df.head()"
   ]
  },
  {
   "cell_type": "markdown",
   "metadata": {},
   "source": [
    "Using `pandas`'s statistical functions, answer the questions below."
   ]
  },
  {
   "cell_type": "code",
   "execution_count": 4,
   "metadata": {},
   "outputs": [],
   "source": [
    "# 1: Calculate the mean sepal width of all flowers in this dataset\n",
    "\n",
    "#A: "
   ]
  },
  {
   "cell_type": "markdown",
   "metadata": {},
   "source": [
    "Click here for the solution\n",
    "\n",
    "<p style=color:white>\n",
    "iris_df['sepal width (cm)'].max()\n",
    "</p>"
   ]
  },
  {
   "cell_type": "code",
   "execution_count": 5,
   "metadata": {},
   "outputs": [],
   "source": [
    "# 2: Caclulate the median petal length of all flowers in this dataset\n",
    "\n",
    "#A:"
   ]
  },
  {
   "cell_type": "markdown",
   "metadata": {},
   "source": [
    "Click here for the solution\n",
    "\n",
    "<p style=color:white>\n",
    "iris_df['petal length (cm)'].median()\n",
    "</p>"
   ]
  },
  {
   "cell_type": "code",
   "execution_count": 6,
   "metadata": {},
   "outputs": [],
   "source": [
    "#3: Calculate the range of sepal lengths of all flowers in this dataset\n",
    "\n",
    "#A:"
   ]
  },
  {
   "cell_type": "markdown",
   "metadata": {},
   "source": [
    "Click here for the solution\n",
    "\n",
    "<p style=color:white>\n",
    "iris_df['sepal length (cm)'].max() - iris_df['sepal length (cm)'].min()\n",
    "</p>"
   ]
  },
  {
   "cell_type": "code",
   "execution_count": 7,
   "metadata": {},
   "outputs": [],
   "source": [
    "#4: Calculate the median petal width for each species of iris\n",
    "\n",
    "#A:"
   ]
  },
  {
   "cell_type": "markdown",
   "metadata": {},
   "source": [
    "Click here for the solution\n",
    "\n",
    "<p style=color:white>\n",
    "iris_df.groupby('species').median()[['petal width (cm)']]\n",
    "</p>"
   ]
  },
  {
   "cell_type": "code",
   "execution_count": 8,
   "metadata": {},
   "outputs": [],
   "source": [
    "#5: Calculate the mean petal width for each species of iris\n",
    "\n",
    "#A:"
   ]
  },
  {
   "cell_type": "markdown",
   "metadata": {},
   "source": [
    "Click here for the solution\n",
    "\n",
    "<p style=color:white>\n",
    "iris_df.groupby('species').mean()[['petal width (cm)']]\n",
    "</p>"
   ]
  },
  {
   "cell_type": "markdown",
   "metadata": {},
   "source": [
    "## Standard deviation"
   ]
  },
  {
   "cell_type": "markdown",
   "metadata": {},
   "source": [
    "Standard deviation is a measure of how spread out numbers are in a dataset. The lower the value, the more closely packed the valus are. You can define the standard deviation as **how far away is each value in a dataset away from the mean?**\n",
    "\n",
    "This is an important step in our EDA as it shows how spread out our data is. Variables with small standard deviations will be much easier to predict, whereas larger standard deviations imply the data is scattered around and will be much harder to model. Finding the standard deviation will give us early insights into how easy it will be to build an accurate model.\n",
    "\n",
    "You can manually calculate the standard deviation by using these steps:\n",
    "\n",
    "<ol>\n",
    "    <li> Calculate the mean of the dataset </li>\n",
    "    <li> For each value, subtract the mean and square the result (the squared difference) </li>\n",
    "    <li> Calculate the mean of the squared differences </li>\n",
    "    <li> Square root your answer </li>\n",
    "</ol>\n",
    "\n",
    "Why do you think it is important to square the difference between the mean and values?"
   ]
  },
  {
   "cell_type": "code",
   "execution_count": 9,
   "metadata": {},
   "outputs": [],
   "source": [
    "#A:"
   ]
  },
  {
   "cell_type": "markdown",
   "metadata": {},
   "source": [
    "Click here for the solution\n",
    "\n",
    "<p style=color:white> As some of the values will be lower than the mean, the difference will be negative. When finding the average of the differences, the positive and negative values will cancel out. By squaring the differences we remove this problem.</p>"
   ]
  },
  {
   "cell_type": "markdown",
   "metadata": {},
   "source": [
    "The figure below shows the spread of sepal lengths (cm) for all flowers in the dataset. The red line shows the mean sepal length. he spread of points around this line is a visually representation of standard deviation."
   ]
  },
  {
   "cell_type": "code",
   "execution_count": 10,
   "metadata": {},
   "outputs": [
    {
     "data": {
      "image/png": "[encoded data removed]",
      "text/plain": [
       "<Figure size 864x576 with 1 Axes>"
      ]
     },
     "metadata": {
      "needs_background": "light"
     },
     "output_type": "display_data"
    }
   ],
   "source": [
    "fig, ax = plt.subplots(figsize=(12,8))\n",
    "\n",
    "ax.plot(iris_df.index, \n",
    "        iris_df['sepal length (cm)'],\n",
    "        'o',\n",
    "        label='sepal lengths',\n",
    "        )\n",
    "\n",
    "ax.hlines(y=iris_df['sepal length (cm)'].mean(),\n",
    "          xmin=0,\n",
    "          xmax=150,\n",
    "          colors='r',\n",
    "          label='mean sepal length',\n",
    "          )\n",
    "\n",
    "ax.set_ylabel('sepal length (cm)')\n",
    "ax.legend()\n",
    "\n",
    "plt.show()"
   ]
  },
  {
   "cell_type": "markdown",
   "metadata": {},
   "source": [
    "To calculate the standard deviation, we can simply add `.std()` to the series:"
   ]
  },
  {
   "cell_type": "code",
   "execution_count": 11,
   "metadata": {},
   "outputs": [
    {
     "data": {
      "text/plain": [
       "0.8280661279778629"
      ]
     },
     "execution_count": 11,
     "metadata": {},
     "output_type": "execute_result"
    }
   ],
   "source": [
    "iris_df['sepal length (cm)'].std()"
   ]
  },
  {
   "cell_type": "markdown",
   "metadata": {},
   "source": [
    "On average, the sepal lengths of the iris' in this dataset are on average 0.828cm away from the mean."
   ]
  },
  {
   "cell_type": "markdown",
   "metadata": {},
   "source": [
    "## Error\n",
    "\n",
    "In the next module we will be learning about predictive modelling and with that comes the concept of error. In other words, how far off are your predictions? \n",
    "\n",
    "It is essential you work this out as it will determine how reliable your model is. Although we aren't look at predictive modelling now, we can look at how to measure and talk about error.\n",
    "\n",
    "But how do you verify a prediction? \n",
    "\n",
    "What we do is build a model using data we know. For example, if I want to build a model predicting petal lengths of an iris using its sepal length then I need to use data that contains both pieces of information. The model will then make predictions which we can compare to the actual information to find out how accurate it is.\n",
    "\n",
    "Let's know take a look at a few methods for evaluating how accurate our models are.\n",
    "\n",
    "### Root Mean Squared Error (RMSE)\n",
    "\n",
    "The first method for calculating error is the root mean squared error. In this method, we calculate the squared difference between every predicition and the actual value, and then average the results. However, as we squared the differences we need to square root our answer.\n",
    "\n",
    "This method returns the average distance between the predictions and the real value."
   ]
  },
  {
   "cell_type": "code",
   "execution_count": 12,
   "metadata": {},
   "outputs": [
    {
     "data": {
      "image/png": "[encoded data removed]",
      "text/plain": [
       "<Figure size 864x576 with 1 Axes>"
      ]
     },
     "metadata": {
      "needs_background": "light"
     },
     "output_type": "display_data"
    }
   ],
   "source": [
    "fig, ax = plt.subplots(figsize=(12,8))\n",
    "\n",
    "ax.plot(iris_df.index,\n",
    "        iris_df['sepal length (cm)'],\n",
    "        'o',\n",
    "        label='sepal lengths',\n",
    "        )\n",
    "\n",
    "ax.hlines(y=iris_df['sepal length (cm)'].mean(),\n",
    "          xmin=0,\n",
    "          xmax=150,\n",
    "          colors='r',\n",
    "          label='mean sepal length',\n",
    "          )\n",
    "\n",
    "ax.set_ylabel('sepal length (cm)')\n",
    "ax.legend()\n",
    "\n",
    "plt.show()"
   ]
  },
  {
   "cell_type": "markdown",
   "metadata": {},
   "source": [
    "Let's consider the previous example of sepal lengths. Let's say that we predicted each plant had a sepal length equal to the mean value. "
   ]
  },
  {
   "cell_type": "code",
   "execution_count": 13,
   "metadata": {},
   "outputs": [
    {
     "name": "stdout",
     "output_type": "stream",
     "text": [
      "5.843333333333335\n"
     ]
    }
   ],
   "source": [
    "mean_sepal_length = iris_df['sepal length (cm)'].mean()\n",
    "print(mean_sepal_length)"
   ]
  },
  {
   "cell_type": "markdown",
   "metadata": {},
   "source": [
    "To calculate the RMSE we would find the squared difference between the mean and actual value for each plant, and then take the square root of the average of the results.\n",
    "\n",
    "\n",
    "To calculate RMSE manually:"
   ]
  },
  {
   "cell_type": "code",
   "execution_count": 14,
   "metadata": {},
   "outputs": [
    {
     "name": "stdout",
     "output_type": "stream",
     "text": [
      "0.8253012917851409\n"
     ]
    }
   ],
   "source": [
    "square_diffs = []\n",
    "\n",
    "for sepal in iris_df['sepal length (cm)']:\n",
    "    value = (sepal - mean_sepal_length) ** 2\n",
    "    square_diffs.append(value)\n",
    "    \n",
    "rmse = np.sqrt(np.mean(square_diffs))\n",
    "print(rmse)"
   ]
  },
  {
   "cell_type": "markdown",
   "metadata": {},
   "source": [
    "We can do this much more easily using built-in functions:"
   ]
  },
  {
   "cell_type": "code",
   "execution_count": 15,
   "metadata": {},
   "outputs": [
    {
     "name": "stdout",
     "output_type": "stream",
     "text": [
      "0.8253012917851409\n"
     ]
    }
   ],
   "source": [
    "from sklearn.metrics import mean_squared_error\n",
    "\n",
    "actual = iris_df['sepal length (cm)']\n",
    "preds = [mean_sepal_length for i in range(len(iris_df))]\n",
    "\n",
    "rmse = np.sqrt(mean_squared_error(actual, preds))\n",
    "print(rmse)"
   ]
  },
  {
   "cell_type": "markdown",
   "metadata": {},
   "source": [
    "You may notice this is the same result as the standard deviation. If you are using the mean as your predictor then RMSE is the same as standard deviation.\n",
    "\n",
    "### Mean Absolute Error (MAE)\n",
    "\n",
    "The problem with finding the difference between a prediction and an actual value is that some calculations will return negative answers, while some will be positive. When averaging, you will then find these cancel each other out. RMSE combats this by squaring the difference, but this isn't the only method. You could take the absolute difference.\n",
    "\n",
    "An absolute value is when you only take the positive result. For example, 10-4 = 6 which is already positive. But 4-10 = -6 which is negative, so the absolute of this (represented by |4-10|) would be 6.\n",
    "\n",
    "Calculating the MAE manually:"
   ]
  },
  {
   "cell_type": "code",
   "execution_count": 16,
   "metadata": {},
   "outputs": [
    {
     "name": "stdout",
     "output_type": "stream",
     "text": [
      "0.6875555555555557\n"
     ]
    }
   ],
   "source": [
    "absolute_diffs = []\n",
    "\n",
    "for sepal in iris_df['sepal length (cm)']:\n",
    "    value = np.abs(sepal - mean_sepal_length)\n",
    "    absolute_diffs.append(value)\n",
    "    \n",
    "mae = np.mean(absolute_diffs)\n",
    "print(mae)"
   ]
  },
  {
   "cell_type": "markdown",
   "metadata": {},
   "source": [
    "Using functions:"
   ]
  },
  {
   "cell_type": "code",
   "execution_count": 17,
   "metadata": {},
   "outputs": [
    {
     "name": "stdout",
     "output_type": "stream",
     "text": [
      "0.6875555555555557\n"
     ]
    }
   ],
   "source": [
    "from sklearn.metrics import mean_absolute_error\n",
    "\n",
    "actual= iris_df['sepal length (cm)']\n",
    "preds= [mean_sepal_length for i in range(len(iris_df))]\n",
    "\n",
    "mae = mean_absolute_error(actual, preds)\n",
    "print(mae)"
   ]
  },
  {
   "cell_type": "markdown",
   "metadata": {},
   "source": [
    "The mean absolute error in this case is similar to the RMSE, but this might not always be true. \n",
    "\n",
    "Whenever you are making a prediction it is a good idea to calculate both the RMSE and MAE. The RMSE is more sensitive to outliers, so MAE can give you a better idea of the error when the data is more spread out. You should always calculate both and compare them, if they are similar then you can ignore the effect outliers have."
   ]
  },
  {
   "cell_type": "markdown",
   "metadata": {},
   "source": [
    "## Distribution\n",
    "\n",
    "When exploring our datasets it is important to consider distribution. Whenever we take a sample of data it will form a distribution, which describes how the data groups together. The most famous distribution is called the Normal (or Gaussian) and looks like a bell curve. \n",
    "\n",
    "Knowing the distribution of data allows us to perform statistical tests to calculate the likilihood of something happening. For example, many tests and models assume the data is normally distributed, so it is important to check if this is the case as part of our EDA. Data that is skewed can effect the performance of a model by over-prioritising a particular part of the data.\n",
    "\n",
    "The simplest way to view distribution is to plot it. In the code block below there is a demonstration of three common types of distribution:\n",
    "\n",
    "* **Positive skew:** the peak is to the left where the mean is greater than the median\n",
    "* **Normal or no skew:** the peak is in the centre where mean and the median (and mode) are equal\n",
    "* **Negative skew:** the peak is to the right where the mean is less than the median\n",
    "\n",
    "We can observe distribution with either boxplots or histograms as both plot the data on a scale."
   ]
  },
  {
   "cell_type": "code",
   "execution_count": 18,
   "metadata": {},
   "outputs": [
    {
     "data": {
      "image/png": "[encoded data removed]",
      "text/plain": [
       "<Figure size 1440x576 with 6 Axes>"
      ]
     },
     "metadata": {
      "needs_background": "light"
     },
     "output_type": "display_data"
    }
   ],
   "source": [
    "from scipy.stats import skewnorm\n",
    "import statistics\n",
    "\n",
    "fig, ax = plt.subplots(2, 3, figsize=(20, 8))\n",
    "\n",
    "# skewnorm will create a skewed normal distribution, a positive number creates a positive skew and the opposite for negative\n",
    "rp = skewnorm.rvs(6, size=1000)\n",
    "ax[0,0].hist(rp, density=True, histtype='stepfilled', alpha=0.2)\n",
    "ax[0,0].vlines(x=rp.mean(), ymin=0, ymax=0.9, color='b', label='mean')\n",
    "ax[0,0].vlines(x=statistics.median(rp), ymin=0, ymax=0.9, color='r', label='median')\n",
    "ax[0,0].set_title('Positive Skew')\n",
    "ax[0,0].legend()\n",
    "\n",
    "ax[1,0].boxplot(rp,vert=False)\n",
    "\n",
    "rg = skewnorm.rvs(0, size=1000)\n",
    "ax[0,1].hist(rg, density=True, histtype='stepfilled', alpha=0.2)\n",
    "ax[0,1].vlines(x=rg.mean(), ymin=0, ymax=0.9, color='b', label='mean')\n",
    "ax[0,1].vlines(x=statistics.median(rg), ymin=0, ymax=0.9, color='r', label='median')\n",
    "ax[0,1].legend()\n",
    "ax[0,1].set_title('Normally Distributed')\n",
    "\n",
    "ax[1,1].boxplot(rg,vert=False)\n",
    "\n",
    "rn = skewnorm.rvs(-6, size=1000)\n",
    "ax[0,2].hist(rn, density=True, histtype='stepfilled', alpha=0.2)\n",
    "ax[0,2].vlines(x=rn.mean(), ymin=0, ymax=0.9, color='b', label='mean')\n",
    "ax[0,2].vlines(x=statistics.median(rn), ymin=0, ymax=0.9, color='r', label='median')\n",
    "ax[0,2].legend()\n",
    "ax[0,2].set_title('Negative Skew')\n",
    "\n",
    "ax[1,2].boxplot(rn,vert=False)\n",
    "\n",
    "plt.show()"
   ]
  },
  {
   "cell_type": "markdown",
   "metadata": {},
   "source": [
    "With boxplots the skew is determined by which quartile the median is closer to. If the median is closer to the lower quartile it is positively skewed, while if it is closer to the upp quartile it is negatively skewed. If it is in the middle there is no skew."
   ]
  },
  {
   "cell_type": "markdown",
   "metadata": {},
   "source": [
    "Let's have a look at the distribution of the sepal lengths from our iris dataset using a histogram."
   ]
  },
  {
   "cell_type": "code",
   "execution_count": 19,
   "metadata": {},
   "outputs": [
    {
     "data": {
      "image/png": "[encoded data removed]",
      "text/plain": [
       "<Figure size 432x288 with 1 Axes>"
      ]
     },
     "metadata": {
      "needs_background": "light"
     },
     "output_type": "display_data"
    }
   ],
   "source": [
    "iris_df['sepal length (cm)'].hist(grid=False)\n",
    "plt.vlines(x=iris_df['sepal length (cm)'].mean(), ymin=0, ymax=30, color='r', label='mean')\n",
    "plt.vlines(x=iris_df['sepal length (cm)'].median(), ymin=0, ymax=30, color='y', label='median')\n",
    "plt.legend()\n",
    "plt.show()"
   ]
  },
  {
   "cell_type": "markdown",
   "metadata": {},
   "source": [
    "And a boxplot"
   ]
  },
  {
   "cell_type": "code",
   "execution_count": 20,
   "metadata": {},
   "outputs": [
    {
     "data": {
      "image/png": "[encoded data removed]",
      "text/plain": [
       "<Figure size 432x288 with 1 Axes>"
      ]
     },
     "metadata": {
      "needs_background": "light"
     },
     "output_type": "display_data"
    }
   ],
   "source": [
    "iris_df.boxplot(column='sepal length (cm)', grid=False)\n",
    "plt.show()"
   ]
  },
  {
   "cell_type": "markdown",
   "metadata": {},
   "source": [
    "The boxplot and the relatively similar means and medians would suggest this is normally distributed, except the histogram shows three peaks. This suggest we mave several distributions within our data (which is likely given there are three distinct species of iris). The code block below shows the distributions for each species."
   ]
  },
  {
   "cell_type": "code",
   "execution_count": 21,
   "metadata": {},
   "outputs": [
    {
     "data": {
      "image/png": "[encoded data removed]",
      "text/plain": [
       "<Figure size 432x288 with 1 Axes>"
      ]
     },
     "metadata": {
      "needs_background": "light"
     },
     "output_type": "display_data"
    },
    {
     "data": {
      "image/png": "[encoded data removed]",
      "text/plain": [
       "<Figure size 432x288 with 1 Axes>"
      ]
     },
     "metadata": {
      "needs_background": "light"
     },
     "output_type": "display_data"
    },
    {
     "data": {
      "image/png": "[encoded data removed]",
      "text/plain": [
       "<Figure size 432x288 with 1 Axes>"
      ]
     },
     "metadata": {
      "needs_background": "light"
     },
     "output_type": "display_data"
    }
   ],
   "source": [
    "for species in iris_df.species.unique():\n",
    "    subset = iris_df[iris_df['species'] == species]\n",
    "    subset['sepal length (cm)'].hist(grid=False)\n",
    "    plt.vlines(x=subset['sepal length (cm)'].mean(), ymin=0, ymax=30, color='r', label='mean')\n",
    "    plt.vlines(x=subset['sepal length (cm)'].median(), ymin=0, ymax=30, color='y', label='median')\n",
    "    plt.title(species)\n",
    "    plt.legend()\n",
    "    plt.show()"
   ]
  },
  {
   "cell_type": "markdown",
   "metadata": {},
   "source": [
    "Another visualisation for checking the distribution of a dataset is called a Quantile-Quantile (QQ) plot. This plot creates a normally distributed set of data the same size as your dataset. Then for both sets of data it ranks them from smallest to largest and plots them on a scatter graph (i.e. smallest against smallest all the way up to largest against largest). \n",
    "\n",
    "If the points fall on a diagonal line then it is a good indication the data is normally distributed."
   ]
  },
  {
   "cell_type": "code",
   "execution_count": 22,
   "metadata": {},
   "outputs": [
    {
     "name": "stderr",
     "output_type": "stream",
     "text": [
      "C:\\Users\\Gilberto Agostinho\\anaconda3\\lib\\site-packages\\statsmodels\\graphics\\gofplots.py:993: UserWarning: marker is redundantly defined by the 'marker' keyword argument and the fmt string \"bo\" (-> marker='o'). The keyword argument will take precedence.\n",
      "  ax.plot(x, y, fmt, **plot_style)\n"
     ]
    },
    {
     "data": {
      "image/png": "[encoded data removed]",
      "text/plain": [
       "<Figure size 432x288 with 1 Axes>"
      ]
     },
     "metadata": {
      "needs_background": "light"
     },
     "output_type": "display_data"
    }
   ],
   "source": [
    "from statsmodels.graphics.gofplots import qqplot\n",
    "\n",
    "# using line='s': standardized line, the expected order statistics are scaled by the standard deviation \n",
    "# of the given sample and have the mean added to them\n",
    "\n",
    "qqplot(iris_df['sepal length (cm)'], line='s')\n",
    "plt.show()"
   ]
  },
  {
   "cell_type": "markdown",
   "metadata": {},
   "source": [
    "## Probability\n",
    "\n",
    "Probability is the likilihood of something happening. For a given event (something happening), the probability is defined as the number of times that event can occur divided by the total number of outcomes.\n",
    "\n",
    "For example, on a standard dice there are 6 sides, so the probability of rolling a three would be 1 in 6, or 1/6 (that is, 1 way of getting a three out of 6 options).\n",
    "\n",
    "In a standard deck of cards, the probability of drawing a queen is 4/52 (which can be reduced to 1/13), since there are four queens in 52 cards, and so on.\n",
    "\n",
    "But how does this help us with our analysis?\n",
    "\n",
    "Through examining how likely something is to occur. \n",
    "\n",
    "Often we see trends or events happen in our data and we want to examine if this has happened by chance, or because something has affected it. Whenever we want to explore our data this way, we need to examine probabilities.\n",
    "\n",
    "Imagine someone has just flipped a coin 20 times and observed 15 heads. How likely is it that this coin is biased? \n",
    "\n",
    "First, let's look at the probability of getting 15 out of 20 heads. The probability of getting a head is 0.5 (1/2) because there is only 2 options and only 1 is a head. The probability of getting 2 heads in a row is 0.25 (1/4) as there is 4 possible outcomes (HH, HT, TH, TT) with only 1 being 2 heads. Another way of performing this calculation is to consider that 0.5 * 0.5 = 0.25, in other words, to calculate the probability of consecutive events just multiply the probabilities together.\n",
    "\n",
    "But what do we do with 15 heads out of 20? Is it 15 consecutive heads and then 5 tails? Is it 10 consecutive heads, a couple of tails, 5 heads and some more tails? To do this we need to go back to distributions, in this case the binomial distibution (the binomial distribution is used for data with only 2 outcomes).\n",
    "\n",
    "The scipy library contains all the functions we need to calculate probabilities with the binomial distribution, including a probability mass function which takes 3 inputs - number of successes, number of trials and probability of success. We can use this to calculate the probability of any outcome. The code below uses the function (line 6) to calculate the probability of observing each possible outcome:"
   ]
  },
  {
   "cell_type": "code",
   "execution_count": 23,
   "metadata": {},
   "outputs": [
    {
     "data": {
      "image/png": "[encoded data removed]",
      "text/plain": [
       "<Figure size 432x288 with 1 Axes>"
      ]
     },
     "metadata": {
      "needs_background": "light"
     },
     "output_type": "display_data"
    }
   ],
   "source": [
    "from scipy.stats import binom\n",
    "\n",
    "probabilities = []\n",
    "indeces = []\n",
    "\n",
    "for i in range(0, 20):\n",
    "    prob = binom.pmf(i, 20, 0.5)\n",
    "    probabilities.append(prob)\n",
    "    indeces.append(i)\n",
    "    \n",
    "plt.bar(indeces, probabilities)\n",
    "plt.show()"
   ]
  },
  {
   "cell_type": "markdown",
   "metadata": {},
   "source": [
    "Clearly the most likely outcome when flipping 20 coins is to get 10 heads, but what about 15 heads? The visualization shows this as being around 1%. We can use the binom function to calculate this exactly:"
   ]
  },
  {
   "cell_type": "code",
   "execution_count": 24,
   "metadata": {},
   "outputs": [
    {
     "data": {
      "text/plain": [
       "0.014785766601562497"
      ]
     },
     "execution_count": 24,
     "metadata": {},
     "output_type": "execute_result"
    }
   ],
   "source": [
    "binom.pmf(15, 20, 0.5)"
   ]
  },
  {
   "cell_type": "markdown",
   "metadata": {},
   "source": [
    "So the probability of getting 15 heads out of 20 tosses is just under 1.5%. This is very unlikely to happen, but does this mean the coin is biased? \n",
    "\n",
    "To determine this we will need to do a hypothesis test.\n",
    "\n",
    "## Hypothesis Testing\n",
    "\n",
    "A hypothesis test is an important tool in an analysts toolkit. It allows us to ask the question: **did this event occur by chance?**\n",
    "\n",
    "When we set up a hypothesis test we need to declare four things:\n",
    "\n",
    "* **A null hypothesis:** this is the status quo, the thing we are trying to disprove (e.g. the event occurred by chance).\n",
    "* **An alternate hypothesis:** what we are proposing is happening instead (e.g. the event happened by something we can describe). \n",
    "* **If it is a one or two tailed test:** if we say for example that the probability of getting a head is greater or less than 0.5 then it is one-tailed. If you are saying instead that the probability is not equal to 0.5 it is two tailed.\n",
    "* **A significance level:** when we perform a hypothesis test we will receive what is called a p-value. If this value is lower than our significance level we reject our null hypothesis. Typically this will be 10%, 5% or 1%. \n",
    "\n",
    "Note, we never prove or disprove the alternate hypothesis. The aim is that we are either going to reject or fail to reject the null hypothesis based on the evidence we have.\n",
    "\n",
    "So in our example from before, we are asking if the coin is biased. In other words, the probability of getting a head is not 0.5. So our hypotheses would be:\n",
    "\n",
    "* **Null hypothesis:** probability of getting a head is 50%\n",
    "* **Alternate hypothesis:** probability of getting a head is not 50%\n",
    "\n",
    "And we will test this at the 5% level, meaning if what we observe has a probability less than 5% we would reject the null hypothesis. (This is called a 2-tail test because we are saying the probability is not 0.5. If we were to be more specific and say the probability of getting a head was greater than 0.5, this would be a 1-tail test).\n",
    "\n",
    "So how do we calculate this p-value? It's not what we calculated before, that was merely the probability of getting 15/20 heads. What we are asking then, is if the coin is fair, what is the probability of observing <i> at least </i> 15 heads?\n",
    "\n",
    "Fortunately, python can calculate this for us using the binom_test function in the stats package. In this function we enter the number of successes (15), the number of trials (20) and the probability of success (0.5) as well as what type of test (two-sided, greater, less). The function then returns the probability of seeing at least that many observations. If the value is lower than the significance level you stated then you can rject the null hypothesis\n",
    "\n",
    "Choose a one tailed test if you are specifically testing that the probability is either lower or greater than what has been stated. If you are unsure, or are just testing that the true probability is different to what has been stated then choose a two tailed test.\n"
   ]
  },
  {
   "cell_type": "code",
   "execution_count": 25,
   "metadata": {},
   "outputs": [
    {
     "data": {
      "text/plain": [
       "0.04138946533203125"
      ]
     },
     "execution_count": 25,
     "metadata": {},
     "output_type": "execute_result"
    }
   ],
   "source": [
    "from scipy.stats import binom_test\n",
    "\n",
    "binom_test(15, 20, p=0.5, alternative='two-sided')"
   ]
  },
  {
   "cell_type": "markdown",
   "metadata": {},
   "source": [
    "The value this test has produced can be interpreted as the probability of an unbiased coin producing at least 15 heads. We have found this to be 0.414 or 4.14%. As this is below our significance level of 5%, we can reject our null hypothesis that the coin is unbiased and accept the alternate that it is biased. \n",
    "\n",
    "But what has actually happened?\n",
    "\n",
    "What we have done is calculate a p-value. A p-value is the probability of obtaining a result as least as extreme as what we observed under the conditions of the null hypothesis. If this value is less than 5% we are saying therefore, that what we observed is so unlikely to have happened under the conditions of the null hypothesis, that the null hypothesis must be wrong. In this case, seeing at least 15/20 heads is so unlikely, the coin must be biased.\n",
    "\n",
    "But this approach leads to another discussion on error (which we will explore in more detail in the next module). The probability of seeing at least 15/20 heads is 4.14%, which means it is possible (although unlikely) that an unbiased coin could return that result. In that case we would have rejected the null hypothesis when we shouldn't have.\n",
    "\n",
    "This is called a false positive (or a type I error), when we reject a null hypothesis when we shouldn't have. The opposite of this is a false negative (or type II error) when we fail to reject a null hypothesis when we shouldn't have (e.g. a biased coin yields an acceptable number of heads).\n",
    "\n",
    "The table below shows the four different outcomes from a hypothesis test:"
   ]
  },
  {
   "cell_type": "code",
   "execution_count": 26,
   "metadata": {},
   "outputs": [
    {
     "data": {
      "text/html": [
       "<div>\n",
       "<style scoped>\n",
       "    .dataframe tbody tr th:only-of-type {\n",
       "        vertical-align: middle;\n",
       "    }\n",
       "\n",
       "    .dataframe tbody tr th {\n",
       "        vertical-align: top;\n",
       "    }\n",
       "\n",
       "    .dataframe thead th {\n",
       "        text-align: right;\n",
       "    }\n",
       "</style>\n",
       "<table border=\"1\" class=\"dataframe\">\n",
       "  <thead>\n",
       "    <tr style=\"text-align: right;\">\n",
       "      <th></th>\n",
       "      <th>Fail to Reject Null</th>\n",
       "      <th>Reject Null</th>\n",
       "    </tr>\n",
       "  </thead>\n",
       "  <tbody>\n",
       "    <tr>\n",
       "      <th>Null Hypothesis Correct</th>\n",
       "      <td>True Negative</td>\n",
       "      <td>False Positive</td>\n",
       "    </tr>\n",
       "    <tr>\n",
       "      <th>Null Hypothesis Incorrect</th>\n",
       "      <td>False Negative</td>\n",
       "      <td>True Positive</td>\n",
       "    </tr>\n",
       "  </tbody>\n",
       "</table>\n",
       "</div>"
      ],
      "text/plain": [
       "                          Fail to Reject Null     Reject Null\n",
       "Null Hypothesis Correct         True Negative  False Positive\n",
       "Null Hypothesis Incorrect      False Negative   True Positive"
      ]
     },
     "execution_count": 26,
     "metadata": {},
     "output_type": "execute_result"
    }
   ],
   "source": [
    "df = pd.DataFrame(\n",
    "    [['True Negative', 'False Positive'], ['False Negative', 'True Positive']],\n",
    "    index=['Null Hypothesis Correct', 'Null Hypothesis Incorrect'],\n",
    "    columns=['Fail to Reject Null', 'Reject Null'],\n",
    ")\n",
    "\n",
    "df"
   ]
  },
  {
   "cell_type": "markdown",
   "metadata": {},
   "source": [
    "The probability of making a Type I error (false positive) is equal to the significance level (in this case 5%). We can reduce the probability of making a Type I error by making the significane level lower (e.g. 1%, so it would be harder to reject the null hypothesis). However, in doing this you are increasing the chance of making a Type II error, where you would have rejected the null but now won't. \n",
    "\n",
    "Reducing the chances of making a Type I or Type II error depends on which type you think is more acceptable. For example, you would rather tell someone they have an illness (when they don't - Type I) than tell them they don't have an illness (when they do - Type II). In the second case, those people would not receive treatment they need, while in the first case the mistake would likely soon be picked up.\n",
    "\n",
    "Deciding on which type of error to minimise is entirely down to the conext of the situation and which one of them is 'worse.' We will think about the ethics of this in the workshop."
   ]
  },
  {
   "cell_type": "markdown",
   "metadata": {},
   "source": [
    "Let's do one more example. A programme developer states that only 10% of their applications contain bugs. However, after an audit it was found that 4 out of 12 of their applications contained bugs. Does this mean that the developer is wrong?\n",
    "\n",
    "Let's set up a hypothesis test where we are investigating if 4/12 applications having bugs is sufficient evidence to say that the developer's bug rate is greater than 10%.\n",
    "\n",
    "<ul>\n",
    "    <li> Null hypothesis: the probability of an app having a bug is 0.1 </li>\n",
    "    <li> Alternate hypothesis: the probability of an app having a bug is greater than 0.1 </li>\n",
    "</ul>\n",
    "\n",
    "This is a one-tailed test which we will test at the 5% level."
   ]
  },
  {
   "cell_type": "code",
   "execution_count": 27,
   "metadata": {},
   "outputs": [
    {
     "data": {
      "text/plain": [
       "0.025637470165000006"
      ]
     },
     "execution_count": 27,
     "metadata": {},
     "output_type": "execute_result"
    }
   ],
   "source": [
    "binom_test(4, 12, p=0.1, alternative='greater')"
   ]
  },
  {
   "cell_type": "markdown",
   "metadata": {},
   "source": [
    "In this instance, under the assumption that only 10% of apps have bugs, observing 4 out of 12 with bugs has a probability of 2.6% which is less than our significance level of 5%.\n",
    "\n",
    "We therefore have sufficient evidence to say that we can reject the null hypothesis. In other words, the developer cannot claim to only having bugs 10% of the time. Note, this isn't to say what the actual rate is, only that the developer cannot claim it is 10% because we have evidence to say it is going to be higher.\n",
    "\n",
    "Whenever we want to examine if something has had a significant effect we need to employ a hypothesis test to give us the evidence we need. \n",
    "\n",
    "This is just an introduction to hypothesis testing, we will explore it in more detail in the workshops."
   ]
  },
  {
   "cell_type": "markdown",
   "metadata": {},
   "source": [
    "### Practice"
   ]
  },
  {
   "cell_type": "code",
   "execution_count": 28,
   "metadata": {},
   "outputs": [],
   "source": [
    "# What is the standard deviation of petal widths of all flowers?\n",
    "\n",
    "#A:"
   ]
  },
  {
   "cell_type": "markdown",
   "metadata": {},
   "source": [
    "Click here for the solution\n",
    "\n",
    "<p style=color:white>\n",
    "iris_df['petal width (cm)'].std()\n",
    "</p>"
   ]
  },
  {
   "cell_type": "code",
   "execution_count": 29,
   "metadata": {},
   "outputs": [],
   "source": [
    "# Which species of flower has the largest standard deviation of petal length?\n",
    "\n",
    "#A:"
   ]
  },
  {
   "cell_type": "markdown",
   "metadata": {},
   "source": [
    "Click here for the solution\n",
    "\n",
    "<p style=color:white>\n",
    "iris_df.groupby('species').std()[['petal length (cm)']].sort_values(by='petal length (cm)', ascending=False)\n",
    "</p>"
   ]
  },
  {
   "cell_type": "code",
   "execution_count": 30,
   "metadata": {},
   "outputs": [],
   "source": [
    "# Calculate the mean petal length for all flowers.\n",
    "\n",
    "#A:"
   ]
  },
  {
   "cell_type": "markdown",
   "metadata": {},
   "source": [
    "Click here for the solution\n",
    "\n",
    "<p style=color:white>\n",
    "mpl = iris_df['petal length (cm)'].mean()\n",
    "print(mpl)\n",
    "</p>"
   ]
  },
  {
   "cell_type": "code",
   "execution_count": 31,
   "metadata": {},
   "outputs": [],
   "source": [
    "# Using this value as a prediction for all petal lengths, calculate the RMSE and MAE.\n",
    "\n",
    "#A:"
   ]
  },
  {
   "cell_type": "markdown",
   "metadata": {},
   "source": [
    "Click here for the solution\n",
    "\n",
    "<p style=color:white>\n",
    "actual = iris_df['petal length (cm)']\n",
    "preds = [mpl for i in range(len(iris_df))]\n",
    "rmse = np.sqrt(mean_squared_error(actual, preds))\n",
    "mae = mean_absolute_error(actual, preds)\n",
    "print('RMSE:', rmse)\n",
    "print('MAE:', mae)\n",
    "</p>"
   ]
  },
  {
   "cell_type": "code",
   "execution_count": 32,
   "metadata": {},
   "outputs": [],
   "source": [
    "# Plot and comment on the distribution for petal lengths of all flowers.\n",
    "\n",
    "#A:"
   ]
  },
  {
   "cell_type": "markdown",
   "metadata": {},
   "source": [
    "Click here for the solution\n",
    "\n",
    "<p style=color:white>\n",
    "plt.hist(iris_df['petal length (cm)'])\n",
    "plt.show()\n",
    "# You could argue it is positively skewed, but to get more of an idea should break it down by species\n",
    "for specie in iris_df.species.unique():\n",
    "    plt.hist(iris_df[iris_df.species == specie]['petal length (cm)']);    \n",
    "# For each species you could roughly say that they are each normally distributed\n",
    "</p>"
   ]
  },
  {
   "cell_type": "code",
   "execution_count": 33,
   "metadata": {},
   "outputs": [],
   "source": [
    "# A company has claimed that 20% of its hires are from non-university educated backgrounds. \n",
    "# A recent survey has shown that out of 60 recent hires, 7 had not been to university. \n",
    "# Test at the 5% level if this sufficient evidence to disprove the company's claim.\n"
   ]
  },
  {
   "cell_type": "markdown",
   "metadata": {},
   "source": [
    "Click here for the solution\n",
    "\n",
    "<p style=color:white>\n",
    "print('one tailed:', binom_test(7, 60, p=0.2, alternative='less'))\n",
    "print('two tailed:', binom_test(7, 60, p=0.2, alternative='two-sided'))\n",
    "# In both cases fail to reject the null hypothesis, there is insufficient evidence to reject it    \n",
    "</p>"
   ]
  }
 ],
 "metadata": {
  "kernelspec": {
   "display_name": "Python 3 (ipykernel)",
   "language": "python",
   "name": "python3"
  },
  "language_info": {
   "codemirror_mode": {
    "name": "ipython",
    "version": 3
   },
   "file_extension": ".py",
   "mimetype": "text/x-python",
   "name": "python",
   "nbconvert_exporter": "python",
   "pygments_lexer": "ipython3",
   "version": "3.9.7"
  }
 },
 "nbformat": 4,
 "nbformat_minor": 4
}
