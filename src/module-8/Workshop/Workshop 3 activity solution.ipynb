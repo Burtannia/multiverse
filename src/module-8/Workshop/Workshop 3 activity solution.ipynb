{
 "cells": [
  {
   "cell_type": "code",
   "execution_count": 1,
   "metadata": {},
   "outputs": [],
   "source": [
    "import pandas as pd\n",
    "import matplotlib.pyplot as plt"
   ]
  },
  {
   "cell_type": "code",
   "execution_count": 2,
   "metadata": {},
   "outputs": [],
   "source": [
    "feast=pd.read_csv('Data/mr_feast_views.csv')"
   ]
  },
  {
   "cell_type": "code",
   "execution_count": 3,
   "metadata": {},
   "outputs": [],
   "source": [
    "feast=feast.drop_duplicates().drop('License',axis=1).reset_index(drop=True)"
   ]
  },
  {
   "cell_type": "code",
   "execution_count": 7,
   "metadata": {},
   "outputs": [
    {
     "data": {
      "text/html": [
       "<div>\n",
       "<style scoped>\n",
       "    .dataframe tbody tr th:only-of-type {\n",
       "        vertical-align: middle;\n",
       "    }\n",
       "\n",
       "    .dataframe tbody tr th {\n",
       "        vertical-align: top;\n",
       "    }\n",
       "\n",
       "    .dataframe thead th {\n",
       "        text-align: right;\n",
       "    }\n",
       "</style>\n",
       "<table border=\"1\" class=\"dataframe\">\n",
       "  <thead>\n",
       "    <tr style=\"text-align: right;\">\n",
       "      <th></th>\n",
       "      <th>video_id</th>\n",
       "      <th>category</th>\n",
       "      <th>views</th>\n",
       "      <th>days_since_release</th>\n",
       "      <th>views_change</th>\n",
       "    </tr>\n",
       "  </thead>\n",
       "  <tbody>\n",
       "    <tr>\n",
       "      <th>0</th>\n",
       "      <td>VG916</td>\n",
       "      <td>Reaction</td>\n",
       "      <td>2108373.0</td>\n",
       "      <td>27</td>\n",
       "      <td>2108373.0</td>\n",
       "    </tr>\n",
       "    <tr>\n",
       "      <th>1</th>\n",
       "      <td>VG916</td>\n",
       "      <td>Reaction</td>\n",
       "      <td>2543481.0</td>\n",
       "      <td>28</td>\n",
       "      <td>435108.0</td>\n",
       "    </tr>\n",
       "    <tr>\n",
       "      <th>2</th>\n",
       "      <td>VG916</td>\n",
       "      <td>Reaction</td>\n",
       "      <td>3084828.0</td>\n",
       "      <td>29</td>\n",
       "      <td>541347.0</td>\n",
       "    </tr>\n",
       "    <tr>\n",
       "      <th>3</th>\n",
       "      <td>VG916</td>\n",
       "      <td>Reaction</td>\n",
       "      <td>3784331.0</td>\n",
       "      <td>30</td>\n",
       "      <td>699503.0</td>\n",
       "    </tr>\n",
       "    <tr>\n",
       "      <th>4</th>\n",
       "      <td>VG916</td>\n",
       "      <td>Reaction</td>\n",
       "      <td>3850877.0</td>\n",
       "      <td>31</td>\n",
       "      <td>66546.0</td>\n",
       "    </tr>\n",
       "    <tr>\n",
       "      <th>...</th>\n",
       "      <td>...</td>\n",
       "      <td>...</td>\n",
       "      <td>...</td>\n",
       "      <td>...</td>\n",
       "      <td>...</td>\n",
       "    </tr>\n",
       "    <tr>\n",
       "      <th>352</th>\n",
       "      <td>EF797</td>\n",
       "      <td>Reaction</td>\n",
       "      <td>3462724.0</td>\n",
       "      <td>6</td>\n",
       "      <td>687247.0</td>\n",
       "    </tr>\n",
       "    <tr>\n",
       "      <th>353</th>\n",
       "      <td>EF797</td>\n",
       "      <td>Reaction</td>\n",
       "      <td>4314741.0</td>\n",
       "      <td>7</td>\n",
       "      <td>852017.0</td>\n",
       "    </tr>\n",
       "    <tr>\n",
       "      <th>354</th>\n",
       "      <td>EF797</td>\n",
       "      <td>Reaction</td>\n",
       "      <td>4385874.0</td>\n",
       "      <td>8</td>\n",
       "      <td>71133.0</td>\n",
       "    </tr>\n",
       "    <tr>\n",
       "      <th>355</th>\n",
       "      <td>EF797</td>\n",
       "      <td>Reaction</td>\n",
       "      <td>4439840.0</td>\n",
       "      <td>9</td>\n",
       "      <td>53966.0</td>\n",
       "    </tr>\n",
       "    <tr>\n",
       "      <th>356</th>\n",
       "      <td>EF797</td>\n",
       "      <td>Reaction</td>\n",
       "      <td>4496502.0</td>\n",
       "      <td>10</td>\n",
       "      <td>56662.0</td>\n",
       "    </tr>\n",
       "  </tbody>\n",
       "</table>\n",
       "<p>357 rows × 5 columns</p>\n",
       "</div>"
      ],
      "text/plain": [
       "    video_id  category      views  days_since_release  views_change\n",
       "0      VG916  Reaction  2108373.0                  27     2108373.0\n",
       "1      VG916  Reaction  2543481.0                  28      435108.0\n",
       "2      VG916  Reaction  3084828.0                  29      541347.0\n",
       "3      VG916  Reaction  3784331.0                  30      699503.0\n",
       "4      VG916  Reaction  3850877.0                  31       66546.0\n",
       "..       ...       ...        ...                 ...           ...\n",
       "352    EF797  Reaction  3462724.0                   6      687247.0\n",
       "353    EF797  Reaction  4314741.0                   7      852017.0\n",
       "354    EF797  Reaction  4385874.0                   8       71133.0\n",
       "355    EF797  Reaction  4439840.0                   9       53966.0\n",
       "356    EF797  Reaction  4496502.0                  10       56662.0\n",
       "\n",
       "[357 rows x 5 columns]"
      ]
     },
     "execution_count": 7,
     "metadata": {},
     "output_type": "execute_result"
    }
   ],
   "source": [
    "feast"
   ]
  },
  {
   "cell_type": "markdown",
   "metadata": {},
   "source": [
    "Build a visualization that compares the distributions of max views of each video for each category"
   ]
  },
  {
   "cell_type": "code",
   "execution_count": 33,
   "metadata": {},
   "outputs": [
    {
     "data": {
      "image/png": "[encoded data removed]",
      "text/plain": [
       "<Figure size 864x576 with 1 Axes>"
      ]
     },
     "metadata": {
      "needs_background": "light"
     },
     "output_type": "display_data"
    }
   ],
   "source": [
    "vids=feast.groupby('video_id').max()\n",
    "\n",
    "fig, ax=plt.subplots(figsize=(12,8))\n",
    "for cat in vids.category.unique():\n",
    "    vids[vids.category==cat]['views'].plot(kind='hist',bins=8,label=cat,ax=ax)\n",
    "    ax.legend()"
   ]
  },
  {
   "cell_type": "markdown",
   "metadata": {},
   "source": [
    "For each video, apply a label ‘greater than 100000’ or ‘less than 100000’ depending on the total daily views."
   ]
  },
  {
   "cell_type": "code",
   "execution_count": 35,
   "metadata": {},
   "outputs": [],
   "source": [
    "feast['label']=feast.views_change.apply(lambda x: 'greater than 100000' if x > 100000 else 'less than 100000')"
   ]
  },
  {
   "cell_type": "markdown",
   "metadata": {},
   "source": [
    "Build a visualization that compares for each category how many videos fall into the two labels you just made.}"
   ]
  },
  {
   "cell_type": "code",
   "execution_count": 54,
   "metadata": {},
   "outputs": [
    {
     "data": {
      "image/png": "[encoded data removed]",
      "text/plain": [
       "<Figure size 576x576 with 1 Axes>"
      ]
     },
     "metadata": {
      "needs_background": "light"
     },
     "output_type": "display_data"
    }
   ],
   "source": [
    "fig,ax = plt.subplots(figsize=(8,8))\n",
    "feast.groupby(['category','label']).count()['views'].plot(kind='bar',color=['red','red','blue','red','blue','red','blue'])\n",
    "plt.show()"
   ]
  },
  {
   "cell_type": "markdown",
   "metadata": {},
   "source": [
    "Build a visualization that compares the relationship between maximum daily views and minimum daily views for each video."
   ]
  },
  {
   "cell_type": "code",
   "execution_count": 56,
   "metadata": {},
   "outputs": [],
   "source": [
    "vids_min=feast.groupby('video_id').min()"
   ]
  },
  {
   "cell_type": "code",
   "execution_count": 64,
   "metadata": {},
   "outputs": [
    {
     "data": {
      "image/png": "[encoded data removed]",
      "text/plain": [
       "<Figure size 576x576 with 1 Axes>"
      ]
     },
     "metadata": {
      "needs_background": "light"
     },
     "output_type": "display_data"
    }
   ],
   "source": [
    "fig,ax=plt.subplots(figsize=(8,8))\n",
    "ax.plot(vids.views_change,vids_min.views_change,'.')\n",
    "ax.set_xlabel('maximum views')\n",
    "ax.set_ylabel('minimum views')\n",
    "ax.set_title('max vs min views per video')\n",
    "plt.show()"
   ]
  }
 ],
 "metadata": {
  "kernelspec": {
   "display_name": "Python 3",
   "language": "python",
   "name": "python3"
  },
  "language_info": {
   "codemirror_mode": {
    "name": "ipython",
    "version": 3
   },
   "file_extension": ".py",
   "mimetype": "text/x-python",
   "name": "python",
   "nbconvert_exporter": "python",
   "pygments_lexer": "ipython3",
   "version": "3.11.4"
  }
 },
 "nbformat": 4,
 "nbformat_minor": 4
}
