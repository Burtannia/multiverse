{
 "cells": [
  {
   "cell_type": "code",
   "execution_count": 1,
   "metadata": {},
   "outputs": [],
   "source": [
    "import pandas as pd\n",
    "import matplotlib.pyplot as plt"
   ]
  },
  {
   "cell_type": "code",
   "execution_count": 2,
   "metadata": {},
   "outputs": [
    {
     "data": {
      "text/html": [
       "<div>\n",
       "<style scoped>\n",
       "    .dataframe tbody tr th:only-of-type {\n",
       "        vertical-align: middle;\n",
       "    }\n",
       "\n",
       "    .dataframe tbody tr th {\n",
       "        vertical-align: top;\n",
       "    }\n",
       "\n",
       "    .dataframe thead th {\n",
       "        text-align: right;\n",
       "    }\n",
       "</style>\n",
       "<table border=\"1\" class=\"dataframe\">\n",
       "  <thead>\n",
       "    <tr style=\"text-align: right;\">\n",
       "      <th></th>\n",
       "      <th>video_id</th>\n",
       "      <th>category</th>\n",
       "      <th>views</th>\n",
       "      <th>days_since_release</th>\n",
       "      <th>License</th>\n",
       "      <th>views_change</th>\n",
       "    </tr>\n",
       "  </thead>\n",
       "  <tbody>\n",
       "    <tr>\n",
       "      <th>0</th>\n",
       "      <td>VG916</td>\n",
       "      <td>Reaction</td>\n",
       "      <td>2108373.0</td>\n",
       "      <td>27</td>\n",
       "      <td>NaN</td>\n",
       "      <td>2108373.0</td>\n",
       "    </tr>\n",
       "    <tr>\n",
       "      <th>1</th>\n",
       "      <td>VG916</td>\n",
       "      <td>Reaction</td>\n",
       "      <td>2108373.0</td>\n",
       "      <td>27</td>\n",
       "      <td>NaN</td>\n",
       "      <td>2108373.0</td>\n",
       "    </tr>\n",
       "    <tr>\n",
       "      <th>2</th>\n",
       "      <td>VG916</td>\n",
       "      <td>Reaction</td>\n",
       "      <td>2543481.0</td>\n",
       "      <td>28</td>\n",
       "      <td>NaN</td>\n",
       "      <td>435108.0</td>\n",
       "    </tr>\n",
       "    <tr>\n",
       "      <th>3</th>\n",
       "      <td>VG916</td>\n",
       "      <td>Reaction</td>\n",
       "      <td>3084828.0</td>\n",
       "      <td>29</td>\n",
       "      <td>NaN</td>\n",
       "      <td>541347.0</td>\n",
       "    </tr>\n",
       "    <tr>\n",
       "      <th>4</th>\n",
       "      <td>VG916</td>\n",
       "      <td>Reaction</td>\n",
       "      <td>3784331.0</td>\n",
       "      <td>30</td>\n",
       "      <td>NaN</td>\n",
       "      <td>699503.0</td>\n",
       "    </tr>\n",
       "  </tbody>\n",
       "</table>\n",
       "</div>"
      ],
      "text/plain": [
       "  video_id  category      views  days_since_release  License  views_change\n",
       "0    VG916  Reaction  2108373.0                  27      NaN     2108373.0\n",
       "1    VG916  Reaction  2108373.0                  27      NaN     2108373.0\n",
       "2    VG916  Reaction  2543481.0                  28      NaN      435108.0\n",
       "3    VG916  Reaction  3084828.0                  29      NaN      541347.0\n",
       "4    VG916  Reaction  3784331.0                  30      NaN      699503.0"
      ]
     },
     "execution_count": 2,
     "metadata": {},
     "output_type": "execute_result"
    }
   ],
   "source": [
    "# Load in the data\n",
    "\n",
    "feast=pd.read_csv('data/mr_feast_views.csv')\n",
    "\n",
    "feast.head()"
   ]
  },
  {
   "cell_type": "markdown",
   "metadata": {},
   "source": [
    "# Inspect and clean the data"
   ]
  },
  {
   "cell_type": "code",
   "execution_count": 3,
   "metadata": {},
   "outputs": [
    {
     "data": {
      "text/plain": [
       "(396, 6)"
      ]
     },
     "execution_count": 3,
     "metadata": {},
     "output_type": "execute_result"
    }
   ],
   "source": [
    "# Inspect the data\n",
    "\n",
    "feast.shape"
   ]
  },
  {
   "cell_type": "code",
   "execution_count": 4,
   "metadata": {},
   "outputs": [
    {
     "data": {
      "text/plain": [
       "39"
      ]
     },
     "execution_count": 4,
     "metadata": {},
     "output_type": "execute_result"
    }
   ],
   "source": [
    "feast.duplicated().sum()"
   ]
  },
  {
   "cell_type": "code",
   "execution_count": 5,
   "metadata": {},
   "outputs": [
    {
     "data": {
      "text/plain": [
       "video_id                0\n",
       "category                0\n",
       "views                   0\n",
       "days_since_release      0\n",
       "License               396\n",
       "views_change            0\n",
       "dtype: int64"
      ]
     },
     "execution_count": 5,
     "metadata": {},
     "output_type": "execute_result"
    }
   ],
   "source": [
    "feast.isna().sum()"
   ]
  },
  {
   "cell_type": "code",
   "execution_count": 6,
   "metadata": {},
   "outputs": [],
   "source": [
    "# drop License column\n",
    "\n",
    "feast.drop('License',axis=1,inplace=True)"
   ]
  },
  {
   "cell_type": "code",
   "execution_count": 7,
   "metadata": {},
   "outputs": [],
   "source": [
    "# drop duplicates\n",
    "\n",
    "feast.drop_duplicates(inplace=True)"
   ]
  },
  {
   "cell_type": "code",
   "execution_count": 8,
   "metadata": {},
   "outputs": [
    {
     "data": {
      "text/plain": [
       "(357, 5)"
      ]
     },
     "execution_count": 8,
     "metadata": {},
     "output_type": "execute_result"
    }
   ],
   "source": [
    "feast.shape"
   ]
  },
  {
   "cell_type": "markdown",
   "metadata": {},
   "source": [
    "# Explore the summary statistics and distribution for each video category on their mean daily views"
   ]
  },
  {
   "cell_type": "code",
   "execution_count": 25,
   "metadata": {},
   "outputs": [
    {
     "data": {
      "text/html": [
       "<div>\n",
       "<style scoped>\n",
       "    .dataframe tbody tr th:only-of-type {\n",
       "        vertical-align: middle;\n",
       "    }\n",
       "\n",
       "    .dataframe tbody tr th {\n",
       "        vertical-align: top;\n",
       "    }\n",
       "\n",
       "    .dataframe thead th {\n",
       "        text-align: right;\n",
       "    }\n",
       "</style>\n",
       "<table border=\"1\" class=\"dataframe\">\n",
       "  <thead>\n",
       "    <tr style=\"text-align: right;\">\n",
       "      <th></th>\n",
       "      <th>views_change</th>\n",
       "    </tr>\n",
       "    <tr>\n",
       "      <th>category</th>\n",
       "      <th></th>\n",
       "    </tr>\n",
       "  </thead>\n",
       "  <tbody>\n",
       "    <tr>\n",
       "      <th>Advert</th>\n",
       "      <td>3900.363636</td>\n",
       "    </tr>\n",
       "    <tr>\n",
       "      <th>Challenge</th>\n",
       "      <td>659760.444444</td>\n",
       "    </tr>\n",
       "    <tr>\n",
       "      <th>Reaction</th>\n",
       "      <td>498177.147783</td>\n",
       "    </tr>\n",
       "    <tr>\n",
       "      <th>Vlog</th>\n",
       "      <td>125602.428571</td>\n",
       "    </tr>\n",
       "  </tbody>\n",
       "</table>\n",
       "</div>"
      ],
      "text/plain": [
       "            views_change\n",
       "category                \n",
       "Advert       3900.363636\n",
       "Challenge  659760.444444\n",
       "Reaction   498177.147783\n",
       "Vlog       125602.428571"
      ]
     },
     "execution_count": 25,
     "metadata": {},
     "output_type": "execute_result"
    }
   ],
   "source": [
    "# In this dataset the views column is cumulative\n",
    "# If we want to look at views per day, we need to look at views_change\n",
    "\n",
    "# Calculate mean daily views\n",
    "\n",
    "feast.groupby('category')[['views_change']].mean()"
   ]
  },
  {
   "cell_type": "code",
   "execution_count": 10,
   "metadata": {},
   "outputs": [
    {
     "data": {
      "text/html": [
       "<div>\n",
       "<style scoped>\n",
       "    .dataframe tbody tr th:only-of-type {\n",
       "        vertical-align: middle;\n",
       "    }\n",
       "\n",
       "    .dataframe tbody tr th {\n",
       "        vertical-align: top;\n",
       "    }\n",
       "\n",
       "    .dataframe thead th {\n",
       "        text-align: right;\n",
       "    }\n",
       "</style>\n",
       "<table border=\"1\" class=\"dataframe\">\n",
       "  <thead>\n",
       "    <tr style=\"text-align: right;\">\n",
       "      <th></th>\n",
       "      <th>views_change</th>\n",
       "    </tr>\n",
       "    <tr>\n",
       "      <th>category</th>\n",
       "      <th></th>\n",
       "    </tr>\n",
       "  </thead>\n",
       "  <tbody>\n",
       "    <tr>\n",
       "      <th>Advert</th>\n",
       "      <td>27082.0</td>\n",
       "    </tr>\n",
       "    <tr>\n",
       "      <th>Challenge</th>\n",
       "      <td>2355802.0</td>\n",
       "    </tr>\n",
       "    <tr>\n",
       "      <th>Reaction</th>\n",
       "      <td>2295875.0</td>\n",
       "    </tr>\n",
       "    <tr>\n",
       "      <th>Vlog</th>\n",
       "      <td>813641.0</td>\n",
       "    </tr>\n",
       "  </tbody>\n",
       "</table>\n",
       "</div>"
      ],
      "text/plain": [
       "           views_change\n",
       "category               \n",
       "Advert          27082.0\n",
       "Challenge     2355802.0\n",
       "Reaction      2295875.0\n",
       "Vlog           813641.0"
      ]
     },
     "execution_count": 10,
     "metadata": {},
     "output_type": "execute_result"
    }
   ],
   "source": [
    "# Calculate max views\n",
    "\n",
    "feast.groupby('category')[['views_change']].max()"
   ]
  },
  {
   "cell_type": "code",
   "execution_count": 11,
   "metadata": {},
   "outputs": [
    {
     "data": {
      "text/html": [
       "<div>\n",
       "<style scoped>\n",
       "    .dataframe tbody tr th:only-of-type {\n",
       "        vertical-align: middle;\n",
       "    }\n",
       "\n",
       "    .dataframe tbody tr th {\n",
       "        vertical-align: top;\n",
       "    }\n",
       "\n",
       "    .dataframe thead th {\n",
       "        text-align: right;\n",
       "    }\n",
       "</style>\n",
       "<table border=\"1\" class=\"dataframe\">\n",
       "  <thead>\n",
       "    <tr style=\"text-align: right;\">\n",
       "      <th></th>\n",
       "      <th>views_change</th>\n",
       "    </tr>\n",
       "    <tr>\n",
       "      <th>category</th>\n",
       "      <th></th>\n",
       "    </tr>\n",
       "  </thead>\n",
       "  <tbody>\n",
       "    <tr>\n",
       "      <th>Advert</th>\n",
       "      <td>393.0</td>\n",
       "    </tr>\n",
       "    <tr>\n",
       "      <th>Challenge</th>\n",
       "      <td>590523.0</td>\n",
       "    </tr>\n",
       "    <tr>\n",
       "      <th>Reaction</th>\n",
       "      <td>361904.0</td>\n",
       "    </tr>\n",
       "    <tr>\n",
       "      <th>Vlog</th>\n",
       "      <td>39825.0</td>\n",
       "    </tr>\n",
       "  </tbody>\n",
       "</table>\n",
       "</div>"
      ],
      "text/plain": [
       "           views_change\n",
       "category               \n",
       "Advert            393.0\n",
       "Challenge      590523.0\n",
       "Reaction       361904.0\n",
       "Vlog            39825.0"
      ]
     },
     "execution_count": 11,
     "metadata": {},
     "output_type": "execute_result"
    }
   ],
   "source": [
    "# Calculate median daily views\n",
    "\n",
    "feast.groupby('category')[['views_change']].median()"
   ]
  },
  {
   "cell_type": "code",
   "execution_count": 12,
   "metadata": {},
   "outputs": [
    {
     "data": {
      "text/html": [
       "<div>\n",
       "<style scoped>\n",
       "    .dataframe tbody tr th:only-of-type {\n",
       "        vertical-align: middle;\n",
       "    }\n",
       "\n",
       "    .dataframe tbody tr th {\n",
       "        vertical-align: top;\n",
       "    }\n",
       "\n",
       "    .dataframe thead th {\n",
       "        text-align: right;\n",
       "    }\n",
       "</style>\n",
       "<table border=\"1\" class=\"dataframe\">\n",
       "  <thead>\n",
       "    <tr style=\"text-align: right;\">\n",
       "      <th></th>\n",
       "      <th>views_change</th>\n",
       "    </tr>\n",
       "    <tr>\n",
       "      <th>category</th>\n",
       "      <th></th>\n",
       "    </tr>\n",
       "  </thead>\n",
       "  <tbody>\n",
       "    <tr>\n",
       "      <th>Advert</th>\n",
       "      <td>8690.569093</td>\n",
       "    </tr>\n",
       "    <tr>\n",
       "      <th>Challenge</th>\n",
       "      <td>695632.548171</td>\n",
       "    </tr>\n",
       "    <tr>\n",
       "      <th>Reaction</th>\n",
       "      <td>601057.880954</td>\n",
       "    </tr>\n",
       "    <tr>\n",
       "      <th>Vlog</th>\n",
       "      <td>249437.979269</td>\n",
       "    </tr>\n",
       "  </tbody>\n",
       "</table>\n",
       "</div>"
      ],
      "text/plain": [
       "            views_change\n",
       "category                \n",
       "Advert       8690.569093\n",
       "Challenge  695632.548171\n",
       "Reaction   601057.880954\n",
       "Vlog       249437.979269"
      ]
     },
     "execution_count": 12,
     "metadata": {},
     "output_type": "execute_result"
    }
   ],
   "source": [
    "# Calculate std daily views\n",
    "\n",
    "feast.groupby('category')[['views_change']].std()"
   ]
  },
  {
   "cell_type": "code",
   "execution_count": 13,
   "metadata": {},
   "outputs": [
    {
     "data": {
      "text/html": [
       "<div>\n",
       "<style scoped>\n",
       "    .dataframe tbody tr th:only-of-type {\n",
       "        vertical-align: middle;\n",
       "    }\n",
       "\n",
       "    .dataframe tbody tr th {\n",
       "        vertical-align: top;\n",
       "    }\n",
       "\n",
       "    .dataframe thead tr th {\n",
       "        text-align: left;\n",
       "    }\n",
       "\n",
       "    .dataframe thead tr:last-of-type th {\n",
       "        text-align: right;\n",
       "    }\n",
       "</style>\n",
       "<table border=\"1\" class=\"dataframe\">\n",
       "  <thead>\n",
       "    <tr>\n",
       "      <th></th>\n",
       "      <th colspan=\"4\" halign=\"left\">views_change</th>\n",
       "    </tr>\n",
       "    <tr>\n",
       "      <th></th>\n",
       "      <th>mean</th>\n",
       "      <th>max</th>\n",
       "      <th>median</th>\n",
       "      <th>std</th>\n",
       "    </tr>\n",
       "    <tr>\n",
       "      <th>category</th>\n",
       "      <th></th>\n",
       "      <th></th>\n",
       "      <th></th>\n",
       "      <th></th>\n",
       "    </tr>\n",
       "  </thead>\n",
       "  <tbody>\n",
       "    <tr>\n",
       "      <th>Advert</th>\n",
       "      <td>3900.363636</td>\n",
       "      <td>27082.0</td>\n",
       "      <td>393.0</td>\n",
       "      <td>8690.569093</td>\n",
       "    </tr>\n",
       "    <tr>\n",
       "      <th>Challenge</th>\n",
       "      <td>659760.444444</td>\n",
       "      <td>2355802.0</td>\n",
       "      <td>590523.0</td>\n",
       "      <td>695632.548171</td>\n",
       "    </tr>\n",
       "    <tr>\n",
       "      <th>Reaction</th>\n",
       "      <td>498177.147783</td>\n",
       "      <td>2295875.0</td>\n",
       "      <td>361904.0</td>\n",
       "      <td>601057.880954</td>\n",
       "    </tr>\n",
       "    <tr>\n",
       "      <th>Vlog</th>\n",
       "      <td>125602.428571</td>\n",
       "      <td>813641.0</td>\n",
       "      <td>39825.0</td>\n",
       "      <td>249437.979269</td>\n",
       "    </tr>\n",
       "  </tbody>\n",
       "</table>\n",
       "</div>"
      ],
      "text/plain": [
       "            views_change                                    \n",
       "                    mean        max    median            std\n",
       "category                                                    \n",
       "Advert       3900.363636    27082.0     393.0    8690.569093\n",
       "Challenge  659760.444444  2355802.0  590523.0  695632.548171\n",
       "Reaction   498177.147783  2295875.0  361904.0  601057.880954\n",
       "Vlog       125602.428571   813641.0   39825.0  249437.979269"
      ]
     },
     "execution_count": 13,
     "metadata": {},
     "output_type": "execute_result"
    }
   ],
   "source": [
    "# Instead of calculating each measure indivisually, we can use .agg to include multiple:\n",
    "\n",
    "feast.groupby('category')[['views_change']].agg(['mean','max','median','std'])"
   ]
  },
  {
   "cell_type": "code",
   "execution_count": 14,
   "metadata": {},
   "outputs": [
    {
     "data": {
      "image/png": "[encoded data removed]",
      "text/plain": [
       "<Figure size 640x480 with 1 Axes>"
      ]
     },
     "metadata": {},
     "output_type": "display_data"
    },
    {
     "data": {
      "image/png": "[encoded data removed]",
      "text/plain": [
       "<Figure size 640x480 with 1 Axes>"
      ]
     },
     "metadata": {},
     "output_type": "display_data"
    },
    {
     "data": {
      "image/png": "[encoded data removed]",
      "text/plain": [
       "<Figure size 640x480 with 1 Axes>"
      ]
     },
     "metadata": {},
     "output_type": "display_data"
    },
    {
     "data": {
      "image/png": "[encoded data removed]",
      "text/plain": [
       "<Figure size 640x480 with 1 Axes>"
      ]
     },
     "metadata": {},
     "output_type": "display_data"
    }
   ],
   "source": [
    "# distribution\n",
    "\n",
    "for cat in feast.category.unique():\n",
    "    subset=feast[feast.category==cat]\n",
    "    subset['views_change'].hist(grid=False)\n",
    "    plt.xlabel('Daily views')\n",
    "    plt.ylabel('Frequency')\n",
    "    plt.title(cat)\n",
    "    plt.show()"
   ]
  },
  {
   "cell_type": "markdown",
   "metadata": {},
   "source": [
    "# Hypothesis Test"
   ]
  },
  {
   "cell_type": "markdown",
   "metadata": {},
   "source": [
    "Mr Feast claims that only 15% of his videos fail to make 1000000 views after 14 days. Test his claim at the 5% level."
   ]
  },
  {
   "cell_type": "code",
   "execution_count": 15,
   "metadata": {},
   "outputs": [
    {
     "name": "stdout",
     "output_type": "stream",
     "text": [
      "16\n"
     ]
    },
    {
     "data": {
      "text/html": [
       "<div>\n",
       "<style scoped>\n",
       "    .dataframe tbody tr th:only-of-type {\n",
       "        vertical-align: middle;\n",
       "    }\n",
       "\n",
       "    .dataframe tbody tr th {\n",
       "        vertical-align: top;\n",
       "    }\n",
       "\n",
       "    .dataframe thead th {\n",
       "        text-align: right;\n",
       "    }\n",
       "</style>\n",
       "<table border=\"1\" class=\"dataframe\">\n",
       "  <thead>\n",
       "    <tr style=\"text-align: right;\">\n",
       "      <th></th>\n",
       "      <th>video_id</th>\n",
       "      <th>category</th>\n",
       "      <th>views</th>\n",
       "      <th>days_since_release</th>\n",
       "      <th>views_change</th>\n",
       "    </tr>\n",
       "  </thead>\n",
       "  <tbody>\n",
       "    <tr>\n",
       "      <th>25</th>\n",
       "      <td>LL832</td>\n",
       "      <td>Reaction</td>\n",
       "      <td>3388124.0</td>\n",
       "      <td>14</td>\n",
       "      <td>593857.0</td>\n",
       "    </tr>\n",
       "    <tr>\n",
       "      <th>37</th>\n",
       "      <td>OD453</td>\n",
       "      <td>Vlog</td>\n",
       "      <td>813641.0</td>\n",
       "      <td>14</td>\n",
       "      <td>813641.0</td>\n",
       "    </tr>\n",
       "    <tr>\n",
       "      <th>111</th>\n",
       "      <td>FQ798</td>\n",
       "      <td>Advert</td>\n",
       "      <td>23772.0</td>\n",
       "      <td>14</td>\n",
       "      <td>269.0</td>\n",
       "    </tr>\n",
       "    <tr>\n",
       "      <th>122</th>\n",
       "      <td>MZ786</td>\n",
       "      <td>Advert</td>\n",
       "      <td>24024.0</td>\n",
       "      <td>14</td>\n",
       "      <td>448.0</td>\n",
       "    </tr>\n",
       "    <tr>\n",
       "      <th>126</th>\n",
       "      <td>CT573</td>\n",
       "      <td>Reaction</td>\n",
       "      <td>1731337.0</td>\n",
       "      <td>14</td>\n",
       "      <td>291558.0</td>\n",
       "    </tr>\n",
       "    <tr>\n",
       "      <th>138</th>\n",
       "      <td>NJ501</td>\n",
       "      <td>Reaction</td>\n",
       "      <td>4199030.0</td>\n",
       "      <td>14</td>\n",
       "      <td>48928.0</td>\n",
       "    </tr>\n",
       "    <tr>\n",
       "      <th>148</th>\n",
       "      <td>ZB519</td>\n",
       "      <td>Advert</td>\n",
       "      <td>28555.0</td>\n",
       "      <td>14</td>\n",
       "      <td>329.0</td>\n",
       "    </tr>\n",
       "    <tr>\n",
       "      <th>152</th>\n",
       "      <td>LA865</td>\n",
       "      <td>Challenge</td>\n",
       "      <td>3174630.0</td>\n",
       "      <td>14</td>\n",
       "      <td>702792.0</td>\n",
       "    </tr>\n",
       "    <tr>\n",
       "      <th>179</th>\n",
       "      <td>FV643</td>\n",
       "      <td>Reaction</td>\n",
       "      <td>2025703.0</td>\n",
       "      <td>14</td>\n",
       "      <td>2025703.0</td>\n",
       "    </tr>\n",
       "    <tr>\n",
       "      <th>204</th>\n",
       "      <td>AK102</td>\n",
       "      <td>Advert</td>\n",
       "      <td>26646.0</td>\n",
       "      <td>14</td>\n",
       "      <td>352.0</td>\n",
       "    </tr>\n",
       "    <tr>\n",
       "      <th>231</th>\n",
       "      <td>NS826</td>\n",
       "      <td>Challenge</td>\n",
       "      <td>3555015.0</td>\n",
       "      <td>14</td>\n",
       "      <td>722938.0</td>\n",
       "    </tr>\n",
       "    <tr>\n",
       "      <th>283</th>\n",
       "      <td>XE206</td>\n",
       "      <td>Challenge</td>\n",
       "      <td>2575107.0</td>\n",
       "      <td>14</td>\n",
       "      <td>558858.0</td>\n",
       "    </tr>\n",
       "    <tr>\n",
       "      <th>293</th>\n",
       "      <td>YX275</td>\n",
       "      <td>Reaction</td>\n",
       "      <td>3552225.0</td>\n",
       "      <td>14</td>\n",
       "      <td>659241.0</td>\n",
       "    </tr>\n",
       "    <tr>\n",
       "      <th>331</th>\n",
       "      <td>YE530</td>\n",
       "      <td>Reaction</td>\n",
       "      <td>2582570.0</td>\n",
       "      <td>14</td>\n",
       "      <td>450446.0</td>\n",
       "    </tr>\n",
       "    <tr>\n",
       "      <th>363</th>\n",
       "      <td>BB342</td>\n",
       "      <td>Reaction</td>\n",
       "      <td>2749596.0</td>\n",
       "      <td>14</td>\n",
       "      <td>31473.0</td>\n",
       "    </tr>\n",
       "    <tr>\n",
       "      <th>383</th>\n",
       "      <td>PG174</td>\n",
       "      <td>Reaction</td>\n",
       "      <td>2436152.0</td>\n",
       "      <td>14</td>\n",
       "      <td>463475.0</td>\n",
       "    </tr>\n",
       "  </tbody>\n",
       "</table>\n",
       "</div>"
      ],
      "text/plain": [
       "    video_id   category      views  days_since_release  views_change\n",
       "25     LL832   Reaction  3388124.0                  14      593857.0\n",
       "37     OD453       Vlog   813641.0                  14      813641.0\n",
       "111    FQ798     Advert    23772.0                  14         269.0\n",
       "122    MZ786     Advert    24024.0                  14         448.0\n",
       "126    CT573   Reaction  1731337.0                  14      291558.0\n",
       "138    NJ501   Reaction  4199030.0                  14       48928.0\n",
       "148    ZB519     Advert    28555.0                  14         329.0\n",
       "152    LA865  Challenge  3174630.0                  14      702792.0\n",
       "179    FV643   Reaction  2025703.0                  14     2025703.0\n",
       "204    AK102     Advert    26646.0                  14         352.0\n",
       "231    NS826  Challenge  3555015.0                  14      722938.0\n",
       "283    XE206  Challenge  2575107.0                  14      558858.0\n",
       "293    YX275   Reaction  3552225.0                  14      659241.0\n",
       "331    YE530   Reaction  2582570.0                  14      450446.0\n",
       "363    BB342   Reaction  2749596.0                  14       31473.0\n",
       "383    PG174   Reaction  2436152.0                  14      463475.0"
      ]
     },
     "execution_count": 15,
     "metadata": {},
     "output_type": "execute_result"
    }
   ],
   "source": [
    "# Investigate how many videos after 14 days fail to make 1 million views\n",
    "\n",
    "# First, select rows where the days_since_release is 14\n",
    "fourteen_days=feast[feast.days_since_release==14]\n",
    "\n",
    "number_distinct_videos = fourteen_days['video_id'].nunique()\n",
    "\n",
    "print(number_distinct_videos)\n",
    "fourteen_days"
   ]
  },
  {
   "cell_type": "code",
   "execution_count": 16,
   "metadata": {},
   "outputs": [
    {
     "name": "stdout",
     "output_type": "stream",
     "text": [
      "5\n"
     ]
    }
   ],
   "source": [
    "# Number of videos with <1  million views\n",
    "\n",
    "num_vids_less_than_1mill_views = len(fourteen_days[fourteen_days['views'] < 1_000_000])\n",
    "print(num_vids_less_than_1mill_views)"
   ]
  },
  {
   "cell_type": "code",
   "execution_count": 17,
   "metadata": {},
   "outputs": [
    {
     "name": "stdout",
     "output_type": "stream",
     "text": [
      "0.3125\n"
     ]
    }
   ],
   "source": [
    "# We have data on 16 videos at their 14 day mark with 5 failing to meet the 1 million view mark \n",
    "\n",
    "print(num_vids_less_than_1mill_views / number_distinct_videos)"
   ]
  },
  {
   "cell_type": "markdown",
   "metadata": {},
   "source": [
    "This sample shows that the proportion is actually 31.25%, but is this sufficient evidence to reject Mr Feast's claim?\n",
    "\n",
    "Null Hypothesis: Probability of a video failing to reach 1 million views after 14 days =0.15<br>\n",
    "Alternate Hypothesis: Probability is greater (one tail test)\n",
    "\n",
    "Test at 5% level\n",
    "\n",
    "<i>Reminder</i>: With binom test we need to provide 4 inputs:\n",
    "\n",
    "<ol>\n",
    "    <li><b>x</b>: The number of successes</li>\n",
    "    <li><b>n</b>: The number of trials</li>\n",
    "    <li><b>p</b>: Probability of success (under the null hypothesis</li>\n",
    "    <li><b>alternative</b>: One or two tailed test</li>\n",
    "</ol>"
   ]
  },
  {
   "cell_type": "code",
   "execution_count": 18,
   "metadata": {},
   "outputs": [
    {
     "name": "stderr",
     "output_type": "stream",
     "text": [
      "/var/folders/z3/32459rgx5g353dlhbq3hx87m0000gp/T/ipykernel_55413/4290300246.py:3: DeprecationWarning: 'binom_test' is deprecated in favour of 'binomtest' from version 1.7.0 and will be removed in Scipy 1.12.0.\n",
      "  binom_test(5,16, p=0.15, alternative='greater')\n"
     ]
    },
    {
     "data": {
      "text/plain": [
       "0.07905129836694304"
      ]
     },
     "execution_count": 18,
     "metadata": {},
     "output_type": "execute_result"
    }
   ],
   "source": [
    "from scipy.stats import binom_test\n",
    "\n",
    "binom_test(5,16, p=0.15, alternative='greater')"
   ]
  },
  {
   "cell_type": "markdown",
   "metadata": {},
   "source": [
    "The p-value if 0.079, or 7.9%. As a reminder the p-value is the probability that results as extreme as the observed results might occur, assuming the null hypothesis is true.\n",
    "\n",
    "In the context of this example:\n",
    "\n",
    "Under the null hypothesis, the probability that at least 5/16 (31.25%) videos failing to reach 1 million views after 14 days is 7.9%. Although this is low, it is above 5% meaning we do not have enough evidence to doubt Mr Feast's claim.\n",
    "\n",
    "<b>BUT</b>, what if Mr Feast's sample size had been bigger. Say it was 50 out of 160 videos..."
   ]
  },
  {
   "cell_type": "code",
   "execution_count": 19,
   "metadata": {},
   "outputs": [
    {
     "name": "stderr",
     "output_type": "stream",
     "text": [
      "/var/folders/z3/32459rgx5g353dlhbq3hx87m0000gp/T/ipykernel_55413/3937423056.py:1: DeprecationWarning: 'binom_test' is deprecated in favour of 'binomtest' from version 1.7.0 and will be removed in Scipy 1.12.0.\n",
      "  binom_test(x=50, n=160, p=0.15, alternative='greater')\n"
     ]
    },
    {
     "data": {
      "text/plain": [
       "1.7134618925220467e-07"
      ]
     },
     "execution_count": 19,
     "metadata": {},
     "output_type": "execute_result"
    }
   ],
   "source": [
    "binom_test(x=50, n=160, p=0.15, alternative='greater') "
   ]
  },
  {
   "cell_type": "markdown",
   "metadata": {},
   "source": [
    "Under the null hypothesis, the probability that at least 50/160 (31.25%) videos failing to reach 1 million views after 14 days is 0.000017%, much lower than 5%, meaning we have sufficient evidence to doubt Mr Feast's claim.\n",
    "\n",
    "A hypothesis test is affected by the size of the data provided. Binomial tests should only be used with up to 50 data points, beyond that we should use something else. \n",
    "\n",
    "When conducting a hypothesis test, be aware that changing the size of the dataset will have an affecdt on the outcome."
   ]
  },
  {
   "cell_type": "markdown",
   "metadata": {},
   "source": [
    "## Practice"
   ]
  },
  {
   "cell_type": "code",
   "execution_count": 20,
   "metadata": {},
   "outputs": [],
   "source": [
    "#1 Calculate the standard deviation of the days_since_released column for each category. \n",
    "\n"
   ]
  },
  {
   "cell_type": "code",
   "execution_count": 21,
   "metadata": {},
   "outputs": [],
   "source": [
    "#2: What is the distribution of views_change for reaction videos that are older than 10 days?\n",
    "\n"
   ]
  },
  {
   "cell_type": "code",
   "execution_count": 22,
   "metadata": {},
   "outputs": [],
   "source": [
    "#3: What proportion of videos are adverts?\n",
    "\n"
   ]
  },
  {
   "cell_type": "code",
   "execution_count": 23,
   "metadata": {},
   "outputs": [],
   "source": [
    "#4: Mr Feast has claimed that only 10% of his videos are adverts. Test at the 5% level if this is true.\n"
   ]
  }
 ],
 "metadata": {
  "kernelspec": {
   "display_name": "Python 3",
   "language": "python",
   "name": "python3"
  },
  "language_info": {
   "codemirror_mode": {
    "name": "ipython",
    "version": 3
   },
   "file_extension": ".py",
   "mimetype": "text/x-python",
   "name": "python",
   "nbconvert_exporter": "python",
   "pygments_lexer": "ipython3",
   "version": "3.11.4"
  }
 },
 "nbformat": 4,
 "nbformat_minor": 4
}
